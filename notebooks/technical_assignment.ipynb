{
 "cells": [
  {
   "cell_type": "markdown",
   "metadata": {
    "id": "GHm8lros0TFj"
   },
   "source": [
    "# 1. Dataset Sourcing"
   ]
  },
  {
   "cell_type": "markdown",
   "metadata": {
    "id": "OTGG9f2q0TFn"
   },
   "source": [
    "## Dataset Selection\n",
    "\n",
    "The dataset chosen for this project is the **News Category Dataset**, a publicly available dataset containing over 200,000 news headlines with accompanying metadata. Each entry in the dataset includes:\n",
    "- **Headline:** The title of the news article.\n",
    "- **Short Description:** A summary or abstract of the article's content.\n",
    "- **Category:** The classification of the article into one of 42 predefined categories, such as business, politics, technology, sports, and more.\n",
    "- **Date:** The publication date of the article.\n",
    "\n",
    "Initially, I considered two potential datasets for this project: the **CNN/Daily Mail Dataset** and the **News Category Dataset**. While both are well-suited for tasks involving news articles, I ultimately selected the News Category Dataset for the following reasons:\n",
    "\n",
    "1. **Concise and Pre-Processed Content:** The News Category Dataset provides short, well-structured summaries and headlines, eliminating the need for extensive pre-processing. This allows for a more efficient pipeline.\n",
    "2, **Lightweight and Faster Processing:** Compared to the larger and more complex CNN/Daily Mail Dataset, the News Category Dataset is significantly smaller, making it more practical to process on a local machine without a GPU.\n",
    "3. **Accessibility:** Since my local setup lacks a GPU, I relied on Google Colab for computations. The smaller size of the News Category Dataset ensured smoother and faster processing in this environment.\n",
    "4. **Diversity of Categories:** It spans a wide range of topics, from politics to lifestyle, which is ideal for testing the flexibility of semantic search models across varied domains.\n",
    "\n",
    "## Relevance to the Task\n",
    "\n",
    "This dataset aligns perfectly with the project goals for several reasons:\n",
    "- **Diversity of Topics:** The dataset includes articles from a broad range of categories such as business, politics, entertainment, and sports. This diversity provides a comprehensive base for building a semantic search system capable of handling varied user queries.\n",
    "- **Textual Richness:** Both headlines and short descriptions are included for each article, enabling us to explore multiple text representations. These fields are essential for creating robust embeddings that capture semantic meaning.\n",
    "- **Categorical Information:** The predefined categories in the dataset are crucial for training and validating the semantic search model. They also provide a natural extension for tasks like classification and topic modeling.\n",
    "- **Scalability:** With 200,000 records, the dataset is substantial enough to train and evaluate advanced NLP models while being manageable within the constraints of the project timeline.\n",
    "\n",
    "## Why This Dataset Was Selected\n",
    "\n",
    "The News Category Dataset was chosen over other alternatives because of its combination of:\n",
    "- **Real-World Relevance:** The dataset closely resembles the type of data managed by Dow Jones, whose flagship publication, The Wall Street Journal, also features categorized news articles. Using this dataset allows us to simulate real-world scenarios for semantic search and other NLP tasks.\n",
    "- **Alignment with NLP Goals:** An NLP system requires textual data with meaningful patterns and relationships. The dataset's headlines and descriptions offer ideal input for generating embeddings and testing semantic similarity.\n",
    "- **Potential for Generative AI:** The dataset can be integrated with GPT to generate summaries, answer questions, and provide detailed responses based on the retrieved articles. This showcases the practical utility of combining semantic search with Generative AI.\n",
    "- **Practicality:** Compared to larger datasets (e.g., CNN/Daily Mail), the size of the News Category Dataset makes it computationally efficient to process while still being large enough to demonstrate robust results.\n",
    "\n",
    "## Relevance to Dow Jones & Company\n",
    "\n",
    "Dow Jones specializes in providing financial news and business information, often categorized for specific user needs. The News Category Dataset mimics these real-world data structures, enabling us to design and test AI systems with potential applications for:\n",
    "- **Personalized Content Delivery:** Recommending relevant news articles to users based on their interests.\n",
    "- **Efficient Search Systems:** Allowing users to retrieve articles using semantic queries, improving the speed and relevance of search results.\n",
    "- **Enhanced User Experience:** By leveraging embeddings and Generative AI, the system can offer summaries or answer questions, adding value to content delivery platforms.\n",
    "\n",
    "This dataset not only supports the goals of this project but also aligns with Dow Jones's core business model, making it an ideal choice for this assignment."
   ]
  },
  {
   "cell_type": "markdown",
   "metadata": {
    "id": "9fNDCsQ00TFt"
   },
   "source": [
    "# 2. Problem Definition"
   ]
  },
  {
   "cell_type": "markdown",
   "metadata": {
    "id": "hxqyfJJA0TFu"
   },
   "source": [
    "## Problem Statement\n",
    "\n",
    "The goal of this project is to design and implement a **Semantic Search system enhanced with Generative AI capabilities** using the **News Category Dataset**. The system aims to allow users to retrieve and interact with news articles through natural language queries. By leveraging **semantic embeddings** for better contextual understanding and integrating LLMs, the system can provide features such as question-answering functionalities or labeling a document with classes.\n",
    "\n",
    "## Significance of the Problem\n",
    "\n",
    "1. **Information overload:** In the digital age, users often struggle to find relevant information quickly due to the overwhelming volume of content. Semantic search addresses this issue by retrieving documents based on meaning rather than simple keyword matching, making search results more relevant and intuitive.\n",
    "\n",
    "2. **Demand for advanced search features:** As users expect richer interactions with search systems, basic retrieval models are no longer sufficient. The integration of **Generative AI** allows the system to go beyond retrieval, providing users with dynamic insights, summaries, and answers tailored to their queries.\n",
    "\n",
    "3. **Alignment with real-world applications:** For companies like Dow Jones, which rely on organizing, categorizing, and delivering business and financial news, an advanced search and recommendation system can significantly enhance user engagement and satisfaction.\n",
    "\n",
    "4. **Scalable framework for NLP tasks:** A semantic search system powered by embeddings and LLMs (Large Language Models) serves as the foundation for several downstream tasks such as summarization, classification, and recommendations. This modular approach demonstrates technical expertise while ensuring extensibility.\n",
    "\n",
    "## Impact of Solving the Problem\n",
    "\n",
    "1. **Enhanced user experience:** By implementing a robust semantic search system, users can find content faster and with greater accuracy, improving overall satisfaction. Features like dynamic summaries and Q&A further enhance the interaction, offering value beyond basic search functionality.\n",
    "\n",
    "2. **Business Relevance:** For companies like Dow Jones, semantic search can revolutionize how users interact with their content platforms. It can lead to increased user retention, better personalization, and ultimately, higher revenue through improved content delivery.\n",
    "\n",
    "3. **Demonstration of core skills:** Building this system showcases expertise in several critical areas relevant to the Senior Data Scientist role, such as:\n",
    "    - NLP Techniques: Text preprocessing, embedding generation, and tokenization.\n",
    "    - Information Retrieval (IR): Efficient document filtering and ranking based on semantic relevance.\n",
    "    - Generative AI: Integration of LLMs for producing dynamic, human-like outputs.\n",
    "    - System Scalability: Design of a modular architecture that can be expanded to include classification, topic modeling, and more.\n",
    "\n",
    "## Proposed Tasks and Extensions\n",
    "\n",
    "The project begins with **Semantic Search** as the core functionality and expands into other related NLP tasks if time permits:\n",
    "\n",
    "1. **Core functionality: Semantic Search**\n",
    "    - Use sentence embeddings to encode article headlines and descriptions.\n",
    "    - Implement a nearest-neighbor search to find articles semantically related to user queries.\n",
    "\n",
    "2. **Extensions to demonstrate flexibility:**\n",
    "    - Question Answering (RAG): Filter relevant articles using embeddings and generate answers with GenAI.\n",
    "    - Summarization: Use GenAI to summarize search results dynamically.\n",
    "    - Classification: Group documents into predefined or new categories based on semantic embeddings.\n",
    "    - Topic Modeling: Apply techniques like clustering to identify latent topics within the dataset.\n",
    "    - Tagging: Classify news into different labels such as sentiment, language, style and covered topics.\n"
   ]
  },
  {
   "cell_type": "markdown",
   "metadata": {
    "id": "wBl1Az1o0TF0"
   },
   "source": [
    "# 3. Approach and Pipeline"
   ]
  },
  {
   "cell_type": "markdown",
   "metadata": {
    "id": "GJqFbz0a0TF2"
   },
   "source": [
    "## Approach\n",
    "\n",
    "The project aims to develop a robust **Semantic Search system** enhanced with **Generative AI**. The Semantic Search will leverage vector-based retrieval to find relevant documents based on the semantic meaning of queries. By incorporating GenAI, the system will enhance user interaction with capabilities like query-specific summaries and natural language responses.\n",
    "\n",
    "The pipeline will prioritize modularity and scalability, ensuring compatibility with future tasks like classification, summarization, and recommendations. While the core Semantic Search system will focus on generating embeddings and performing nearest-neighbor searches, tools like **LangChain** will help simplify processes like text splitting, metadata handling, and integration with generative models.\n",
    "\n"
   ]
  },
  {
   "cell_type": "markdown",
   "metadata": {
    "id": "_GzVK8ec0TF3"
   },
   "source": [
    "## Tools, Libraries, and Frameworks\n",
    "\n",
    "1. **Core Python Libraries:**\n",
    "    - NumPy and Pandas: For efficient data handling and manipulation.\n",
    "    - Matplotlib and Seaborn: For creating meaningful visualizations during EDA and analysis.\n",
    "\n",
    "2. **Natural Language Processing Tools:**\n",
    "    - LangChain: Utilized for managing document chunking, metadata assignment, and integration with vectorstores and LLMs.\n",
    "    - Hugging Face Transformers: To access state-of-the-art models for embedding generation (sentence-transformers for dense vector embeddings).\n",
    "\n",
    "3. **Semantic Search Engine:**\n",
    "    - FAISS (Facebook AI Similarity Search): To implement a fast and efficient vector search index. We will rely on the CPU implementation to suit the current hardware, ensuring scalability without requiring a GPU.\n",
    "\n",
    "4. **Generative AI Integration:**\n",
    "  - MistralAI's open-mistral-nemo: Selected for its free availability and lightweight requirements, as it operates efficiently on hardware with up to 16GB of GPU RAM, which aligns with the resources available in Google Colab.\n",
    "\n",
    "5. **Development and Environment:**\n",
    "    - Local development in Visual Studio Code with Python, focusing on CPU-based implementations.\n",
    "    - Google Colab as a fallback option for GPU-based experimentation or additional scalability testing.\n",
    "\n",
    "6. **Version Control and Documentation:**\n",
    "    - Git/GitHub: For version control and collaborative documentation. The notebook will contain markdown annotations for explanations and visualizations."
   ]
  },
  {
   "cell_type": "markdown",
   "metadata": {
    "id": "jsRqTTT10TF4"
   },
   "source": [
    "## Pipeline Details\n",
    "\n",
    "1. **Data Preprocessing and Splitting:**\n",
    "    - Minimal text cleaning:\n",
    "        - Remove duplicates and non-text artifacts, ensuring a consistent dataset.\n",
    "        - Maintain as much original text as possible to preserve semantic richness.\n",
    "          - Long documents will be split into smaller chunks using LangChain's RecursiveCharacterTextSplitter. This ensures compatibility with model input limitations and improves retrieval granularity.\n",
    "\n",
    "2. **Feature Engineering:**\n",
    "    - Generate embeddings for each text chunk using sentence-transformers.\n",
    "    - Attach metadata (e.g., category, headline, publication date) to embeddings for better filtering and query-specific results.\n",
    "    - Store embeddings and metadata in a vectorstore (FAISS / Chroma), chosen for its performance and seamless integration with LangChain.\n",
    "\n",
    "4. **Model Building:**\n",
    "    - **Semantic Search:**\n",
    "        - User queries are encoded as embeddings using the same model as the documents.\n",
    "        - Perform nearest-neighbor searches using the vectorstore, retrieving the most semantically relevant chunks.\n",
    "    - **Generative AI:**\n",
    "        - Integrate MistralAI to:\n",
    "            - Generate query-specific summaries of retrieved results.\n",
    "            - Provide enhanced responses by synthesizing information across retrieved documents.\n",
    "            - Make a topic modelling aplying clustering and GenAI capabilities.\n",
    "            - Tag each text with classes.\n",
    "\n",
    "5. **Evaluation:**\n",
    "    - Quantitative metrics: Precision@K, Recall@K, and Mean Average Precision (MAP) to measure retrieval quality.\n",
    "    - Qualitative analysis: Review the coherence and relevance of LLM-generated summaries and responses."
   ]
  },
  {
   "cell_type": "markdown",
   "metadata": {
    "id": "KmOx6NbW0TF7"
   },
   "source": [
    "# 4. Implementation"
   ]
  },
  {
   "cell_type": "markdown",
   "metadata": {
    "id": "7PxRx4fG-U_q"
   },
   "source": [
    "## a) Google Drive"
   ]
  },
  {
   "cell_type": "code",
   "execution_count": null,
   "metadata": {
    "colab": {
     "base_uri": "https://localhost:8080/"
    },
    "id": "kW5j--IS-UVB",
    "outputId": "cec7f5e4-7dca-42f7-ee41-f4c29f094a65"
   },
   "outputs": [
    {
     "name": "stdout",
     "output_type": "stream",
     "text": [
      "Drive already mounted at /content/drive; to attempt to forcibly remount, call drive.mount(\"/content/drive\", force_remount=True).\n",
      "Base path: /content/drive/My Drive/dow_jones\n"
     ]
    }
   ],
   "source": [
    "from google.colab import drive\n",
    "\n",
    "# Conectar Google Drive\n",
    "drive.mount('/content/drive')\n",
    "\n",
    "# Establecer el directorio donde guardarás tus archivos\n",
    "import os\n",
    "base_path = '/content/drive/My Drive/dow_jones'\n",
    "os.makedirs(base_path, exist_ok=True)\n",
    "print(f\"Base path: {base_path}\")\n"
   ]
  },
  {
   "cell_type": "markdown",
   "metadata": {
    "id": "CPymT0NMD1bR"
   },
   "source": [
    "## b) Instalations"
   ]
  },
  {
   "cell_type": "markdown",
   "metadata": {
    "id": "trTT5oHi0TF8"
   },
   "source": [
    "## c) Imports"
   ]
  },
  {
   "cell_type": "code",
   "execution_count": null,
   "metadata": {
    "id": "RqX4SjY30TF8"
   },
   "outputs": [],
   "source": [
    "import json\n",
    "import os\n",
    "import pickle\n",
    "import re\n",
    "import string\n",
    "import time\n",
    "\n",
    "import matplotlib.pyplot as plt\n",
    "import numpy as np\n",
    "import pandas as pd\n",
    "from dotenv import load_dotenv\n",
    "from pydantic import BaseModel, Field\n",
    "from sklearn.cluster import KMeans, MiniBatchKMeans\n",
    "from sklearn.metrics import homogeneity_score, precision_score, recall_score, silhouette_score\n",
    "\n",
    "import tiktoken\n",
    "from langchain.chains import RetrievalQA, create_retrieval_chain\n",
    "from langchain.chains.combine_documents import create_stuff_documents_chain\n",
    "from langchain.document_loaders import JSONLoader\n",
    "from langchain.llms import OpenAI\n",
    "from langchain.text_splitter import RecursiveCharacterTextSplitter\n",
    "from langchain.vectorstores import FAISS\n",
    "from langchain_core.documents import Document\n",
    "from langchain_core.output_parsers import StrOutputParser\n",
    "from langchain_core.prompts import ChatPromptTemplate\n",
    "from langchain_core.runnables import RunnablePassthrough\n",
    "from langchain_huggingface import HuggingFaceEmbeddings\n",
    "from langchain_mistralai import ChatMistralAI\n",
    "from langchain_openai import ChatOpenAI, OpenAIEmbeddings"
   ]
  },
  {
   "cell_type": "markdown",
   "metadata": {
    "id": "mo2T7qlsJ17b"
   },
   "source": [
    "## d) MistralAI API Key"
   ]
  },
  {
   "cell_type": "code",
   "execution_count": null,
   "metadata": {
    "colab": {
     "base_uri": "https://localhost:8080/"
    },
    "id": "vCHI-5AkJ8sy",
    "outputId": "6799ba4e-d23b-4652-bb24-4757cf61e8fa"
   },
   "outputs": [
    {
     "name": "stdout",
     "output_type": "stream",
     "text": [
      "MistralAI API Key has been loaded successfully.\n"
     ]
    }
   ],
   "source": [
    "# Configuring the OpenAI API key directly\n",
    "os.environ[\"MISTRAL_API_KEY\"] = \"8UqsMDdsIUSK7K4VhAUeAuTthMCRTU0C\"\n",
    "\n",
    "# Verify if the key was set correctly\n",
    "api_key = os.getenv(\"MISTRAL_API_KEY\")\n",
    "\n",
    "if api_key:\n",
    "    print(\"MistralAI API Key has been loaded successfully.\")\n",
    "else:\n",
    "    print(\"Error: MistralAI API Key is not set in the environment.\")"
   ]
  },
  {
   "cell_type": "markdown",
   "metadata": {
    "id": "_kC4jNNU0TGB"
   },
   "source": [
    "## 4.1. Load the dataset"
   ]
  },
  {
   "cell_type": "code",
   "execution_count": null,
   "metadata": {
    "colab": {
     "base_uri": "https://localhost:8080/"
    },
    "id": "amOSbtMV0TGB",
    "outputId": "fe301332-d2c3-42c8-dd84-11f4f86bb2aa"
   },
   "outputs": [
    {
     "name": "stdout",
     "output_type": "stream",
     "text": [
      "/content\n"
     ]
    }
   ],
   "source": [
    "# Verify current directory\n",
    "print(os.getcwd())"
   ]
  },
  {
   "cell_type": "code",
   "execution_count": null,
   "metadata": {
    "id": "2HYCK5f80TGC"
   },
   "outputs": [],
   "source": [
    "# Loading the dataset\n",
    "file_path = \"/content/drive/MyDrive/Colab Notebooks/dow_jones/data/news_category/News_Category_Dataset_v3.json\"\n",
    "\n",
    "# Reading the JSON file into a DataFrame\n",
    "with open(file_path, 'r') as file:\n",
    "    data = [json.loads(line) for line in file]\n",
    "\n",
    "df = pd.DataFrame(data)"
   ]
  },
  {
   "cell_type": "code",
   "execution_count": null,
   "metadata": {
    "colab": {
     "base_uri": "https://localhost:8080/",
     "height": 224
    },
    "id": "Irf37i3D0TGC",
    "outputId": "f1d529c7-e431-4aed-8673-86c2cbfe784e"
   },
   "outputs": [
    {
     "name": "stdout",
     "output_type": "stream",
     "text": [
      "Dataset preview:\n"
     ]
    },
    {
     "data": {
      "application/vnd.google.colaboratory.intrinsic+json": {
       "type": "dataframe",
       "variable_name": "df"
      },
      "text/html": [
       "\n",
       "  <div id=\"df-e7595f53-effe-4da1-aab7-8b7c2e728bc7\" class=\"colab-df-container\">\n",
       "    <div>\n",
       "<style scoped>\n",
       "    .dataframe tbody tr th:only-of-type {\n",
       "        vertical-align: middle;\n",
       "    }\n",
       "\n",
       "    .dataframe tbody tr th {\n",
       "        vertical-align: top;\n",
       "    }\n",
       "\n",
       "    .dataframe thead th {\n",
       "        text-align: right;\n",
       "    }\n",
       "</style>\n",
       "<table border=\"1\" class=\"dataframe\">\n",
       "  <thead>\n",
       "    <tr style=\"text-align: right;\">\n",
       "      <th></th>\n",
       "      <th>link</th>\n",
       "      <th>headline</th>\n",
       "      <th>category</th>\n",
       "      <th>short_description</th>\n",
       "      <th>authors</th>\n",
       "      <th>date</th>\n",
       "    </tr>\n",
       "  </thead>\n",
       "  <tbody>\n",
       "    <tr>\n",
       "      <th>0</th>\n",
       "      <td>https://www.huffpost.com/entry/covid-boosters-...</td>\n",
       "      <td>Over 4 Million Americans Roll Up Sleeves For O...</td>\n",
       "      <td>U.S. NEWS</td>\n",
       "      <td>Health experts said it is too early to predict...</td>\n",
       "      <td>Carla K. Johnson, AP</td>\n",
       "      <td>2022-09-23</td>\n",
       "    </tr>\n",
       "    <tr>\n",
       "      <th>1</th>\n",
       "      <td>https://www.huffpost.com/entry/american-airlin...</td>\n",
       "      <td>American Airlines Flyer Charged, Banned For Li...</td>\n",
       "      <td>U.S. NEWS</td>\n",
       "      <td>He was subdued by passengers and crew when he ...</td>\n",
       "      <td>Mary Papenfuss</td>\n",
       "      <td>2022-09-23</td>\n",
       "    </tr>\n",
       "    <tr>\n",
       "      <th>2</th>\n",
       "      <td>https://www.huffpost.com/entry/funniest-tweets...</td>\n",
       "      <td>23 Of The Funniest Tweets About Cats And Dogs ...</td>\n",
       "      <td>COMEDY</td>\n",
       "      <td>\"Until you have a dog you don't understand wha...</td>\n",
       "      <td>Elyse Wanshel</td>\n",
       "      <td>2022-09-23</td>\n",
       "    </tr>\n",
       "    <tr>\n",
       "      <th>3</th>\n",
       "      <td>https://www.huffpost.com/entry/funniest-parent...</td>\n",
       "      <td>The Funniest Tweets From Parents This Week (Se...</td>\n",
       "      <td>PARENTING</td>\n",
       "      <td>\"Accidentally put grown-up toothpaste on my to...</td>\n",
       "      <td>Caroline Bologna</td>\n",
       "      <td>2022-09-23</td>\n",
       "    </tr>\n",
       "    <tr>\n",
       "      <th>4</th>\n",
       "      <td>https://www.huffpost.com/entry/amy-cooper-lose...</td>\n",
       "      <td>Woman Who Called Cops On Black Bird-Watcher Lo...</td>\n",
       "      <td>U.S. NEWS</td>\n",
       "      <td>Amy Cooper accused investment firm Franklin Te...</td>\n",
       "      <td>Nina Golgowski</td>\n",
       "      <td>2022-09-22</td>\n",
       "    </tr>\n",
       "  </tbody>\n",
       "</table>\n",
       "</div>\n",
       "    <div class=\"colab-df-buttons\">\n",
       "\n",
       "  <div class=\"colab-df-container\">\n",
       "    <button class=\"colab-df-convert\" onclick=\"convertToInteractive('df-e7595f53-effe-4da1-aab7-8b7c2e728bc7')\"\n",
       "            title=\"Convert this dataframe to an interactive table.\"\n",
       "            style=\"display:none;\">\n",
       "\n",
       "  <svg xmlns=\"http://www.w3.org/2000/svg\" height=\"24px\" viewBox=\"0 -960 960 960\">\n",
       "    <path d=\"M120-120v-720h720v720H120Zm60-500h600v-160H180v160Zm220 220h160v-160H400v160Zm0 220h160v-160H400v160ZM180-400h160v-160H180v160Zm440 0h160v-160H620v160ZM180-180h160v-160H180v160Zm440 0h160v-160H620v160Z\"/>\n",
       "  </svg>\n",
       "    </button>\n",
       "\n",
       "  <style>\n",
       "    .colab-df-container {\n",
       "      display:flex;\n",
       "      gap: 12px;\n",
       "    }\n",
       "\n",
       "    .colab-df-convert {\n",
       "      background-color: #E8F0FE;\n",
       "      border: none;\n",
       "      border-radius: 50%;\n",
       "      cursor: pointer;\n",
       "      display: none;\n",
       "      fill: #1967D2;\n",
       "      height: 32px;\n",
       "      padding: 0 0 0 0;\n",
       "      width: 32px;\n",
       "    }\n",
       "\n",
       "    .colab-df-convert:hover {\n",
       "      background-color: #E2EBFA;\n",
       "      box-shadow: 0px 1px 2px rgba(60, 64, 67, 0.3), 0px 1px 3px 1px rgba(60, 64, 67, 0.15);\n",
       "      fill: #174EA6;\n",
       "    }\n",
       "\n",
       "    .colab-df-buttons div {\n",
       "      margin-bottom: 4px;\n",
       "    }\n",
       "\n",
       "    [theme=dark] .colab-df-convert {\n",
       "      background-color: #3B4455;\n",
       "      fill: #D2E3FC;\n",
       "    }\n",
       "\n",
       "    [theme=dark] .colab-df-convert:hover {\n",
       "      background-color: #434B5C;\n",
       "      box-shadow: 0px 1px 3px 1px rgba(0, 0, 0, 0.15);\n",
       "      filter: drop-shadow(0px 1px 2px rgba(0, 0, 0, 0.3));\n",
       "      fill: #FFFFFF;\n",
       "    }\n",
       "  </style>\n",
       "\n",
       "    <script>\n",
       "      const buttonEl =\n",
       "        document.querySelector('#df-e7595f53-effe-4da1-aab7-8b7c2e728bc7 button.colab-df-convert');\n",
       "      buttonEl.style.display =\n",
       "        google.colab.kernel.accessAllowed ? 'block' : 'none';\n",
       "\n",
       "      async function convertToInteractive(key) {\n",
       "        const element = document.querySelector('#df-e7595f53-effe-4da1-aab7-8b7c2e728bc7');\n",
       "        const dataTable =\n",
       "          await google.colab.kernel.invokeFunction('convertToInteractive',\n",
       "                                                    [key], {});\n",
       "        if (!dataTable) return;\n",
       "\n",
       "        const docLinkHtml = 'Like what you see? Visit the ' +\n",
       "          '<a target=\"_blank\" href=https://colab.research.google.com/notebooks/data_table.ipynb>data table notebook</a>'\n",
       "          + ' to learn more about interactive tables.';\n",
       "        element.innerHTML = '';\n",
       "        dataTable['output_type'] = 'display_data';\n",
       "        await google.colab.output.renderOutput(dataTable, element);\n",
       "        const docLink = document.createElement('div');\n",
       "        docLink.innerHTML = docLinkHtml;\n",
       "        element.appendChild(docLink);\n",
       "      }\n",
       "    </script>\n",
       "  </div>\n",
       "\n",
       "\n",
       "<div id=\"df-d291f2c2-731a-47fd-ad8a-0ebf131b11bf\">\n",
       "  <button class=\"colab-df-quickchart\" onclick=\"quickchart('df-d291f2c2-731a-47fd-ad8a-0ebf131b11bf')\"\n",
       "            title=\"Suggest charts\"\n",
       "            style=\"display:none;\">\n",
       "\n",
       "<svg xmlns=\"http://www.w3.org/2000/svg\" height=\"24px\"viewBox=\"0 0 24 24\"\n",
       "     width=\"24px\">\n",
       "    <g>\n",
       "        <path d=\"M19 3H5c-1.1 0-2 .9-2 2v14c0 1.1.9 2 2 2h14c1.1 0 2-.9 2-2V5c0-1.1-.9-2-2-2zM9 17H7v-7h2v7zm4 0h-2V7h2v10zm4 0h-2v-4h2v4z\"/>\n",
       "    </g>\n",
       "</svg>\n",
       "  </button>\n",
       "\n",
       "<style>\n",
       "  .colab-df-quickchart {\n",
       "      --bg-color: #E8F0FE;\n",
       "      --fill-color: #1967D2;\n",
       "      --hover-bg-color: #E2EBFA;\n",
       "      --hover-fill-color: #174EA6;\n",
       "      --disabled-fill-color: #AAA;\n",
       "      --disabled-bg-color: #DDD;\n",
       "  }\n",
       "\n",
       "  [theme=dark] .colab-df-quickchart {\n",
       "      --bg-color: #3B4455;\n",
       "      --fill-color: #D2E3FC;\n",
       "      --hover-bg-color: #434B5C;\n",
       "      --hover-fill-color: #FFFFFF;\n",
       "      --disabled-bg-color: #3B4455;\n",
       "      --disabled-fill-color: #666;\n",
       "  }\n",
       "\n",
       "  .colab-df-quickchart {\n",
       "    background-color: var(--bg-color);\n",
       "    border: none;\n",
       "    border-radius: 50%;\n",
       "    cursor: pointer;\n",
       "    display: none;\n",
       "    fill: var(--fill-color);\n",
       "    height: 32px;\n",
       "    padding: 0;\n",
       "    width: 32px;\n",
       "  }\n",
       "\n",
       "  .colab-df-quickchart:hover {\n",
       "    background-color: var(--hover-bg-color);\n",
       "    box-shadow: 0 1px 2px rgba(60, 64, 67, 0.3), 0 1px 3px 1px rgba(60, 64, 67, 0.15);\n",
       "    fill: var(--button-hover-fill-color);\n",
       "  }\n",
       "\n",
       "  .colab-df-quickchart-complete:disabled,\n",
       "  .colab-df-quickchart-complete:disabled:hover {\n",
       "    background-color: var(--disabled-bg-color);\n",
       "    fill: var(--disabled-fill-color);\n",
       "    box-shadow: none;\n",
       "  }\n",
       "\n",
       "  .colab-df-spinner {\n",
       "    border: 2px solid var(--fill-color);\n",
       "    border-color: transparent;\n",
       "    border-bottom-color: var(--fill-color);\n",
       "    animation:\n",
       "      spin 1s steps(1) infinite;\n",
       "  }\n",
       "\n",
       "  @keyframes spin {\n",
       "    0% {\n",
       "      border-color: transparent;\n",
       "      border-bottom-color: var(--fill-color);\n",
       "      border-left-color: var(--fill-color);\n",
       "    }\n",
       "    20% {\n",
       "      border-color: transparent;\n",
       "      border-left-color: var(--fill-color);\n",
       "      border-top-color: var(--fill-color);\n",
       "    }\n",
       "    30% {\n",
       "      border-color: transparent;\n",
       "      border-left-color: var(--fill-color);\n",
       "      border-top-color: var(--fill-color);\n",
       "      border-right-color: var(--fill-color);\n",
       "    }\n",
       "    40% {\n",
       "      border-color: transparent;\n",
       "      border-right-color: var(--fill-color);\n",
       "      border-top-color: var(--fill-color);\n",
       "    }\n",
       "    60% {\n",
       "      border-color: transparent;\n",
       "      border-right-color: var(--fill-color);\n",
       "    }\n",
       "    80% {\n",
       "      border-color: transparent;\n",
       "      border-right-color: var(--fill-color);\n",
       "      border-bottom-color: var(--fill-color);\n",
       "    }\n",
       "    90% {\n",
       "      border-color: transparent;\n",
       "      border-bottom-color: var(--fill-color);\n",
       "    }\n",
       "  }\n",
       "</style>\n",
       "\n",
       "  <script>\n",
       "    async function quickchart(key) {\n",
       "      const quickchartButtonEl =\n",
       "        document.querySelector('#' + key + ' button');\n",
       "      quickchartButtonEl.disabled = true;  // To prevent multiple clicks.\n",
       "      quickchartButtonEl.classList.add('colab-df-spinner');\n",
       "      try {\n",
       "        const charts = await google.colab.kernel.invokeFunction(\n",
       "            'suggestCharts', [key], {});\n",
       "      } catch (error) {\n",
       "        console.error('Error during call to suggestCharts:', error);\n",
       "      }\n",
       "      quickchartButtonEl.classList.remove('colab-df-spinner');\n",
       "      quickchartButtonEl.classList.add('colab-df-quickchart-complete');\n",
       "    }\n",
       "    (() => {\n",
       "      let quickchartButtonEl =\n",
       "        document.querySelector('#df-d291f2c2-731a-47fd-ad8a-0ebf131b11bf button');\n",
       "      quickchartButtonEl.style.display =\n",
       "        google.colab.kernel.accessAllowed ? 'block' : 'none';\n",
       "    })();\n",
       "  </script>\n",
       "</div>\n",
       "\n",
       "    </div>\n",
       "  </div>\n"
      ],
      "text/plain": [
       "                                                link  \\\n",
       "0  https://www.huffpost.com/entry/covid-boosters-...   \n",
       "1  https://www.huffpost.com/entry/american-airlin...   \n",
       "2  https://www.huffpost.com/entry/funniest-tweets...   \n",
       "3  https://www.huffpost.com/entry/funniest-parent...   \n",
       "4  https://www.huffpost.com/entry/amy-cooper-lose...   \n",
       "\n",
       "                                            headline   category  \\\n",
       "0  Over 4 Million Americans Roll Up Sleeves For O...  U.S. NEWS   \n",
       "1  American Airlines Flyer Charged, Banned For Li...  U.S. NEWS   \n",
       "2  23 Of The Funniest Tweets About Cats And Dogs ...     COMEDY   \n",
       "3  The Funniest Tweets From Parents This Week (Se...  PARENTING   \n",
       "4  Woman Who Called Cops On Black Bird-Watcher Lo...  U.S. NEWS   \n",
       "\n",
       "                                   short_description               authors  \\\n",
       "0  Health experts said it is too early to predict...  Carla K. Johnson, AP   \n",
       "1  He was subdued by passengers and crew when he ...        Mary Papenfuss   \n",
       "2  \"Until you have a dog you don't understand wha...         Elyse Wanshel   \n",
       "3  \"Accidentally put grown-up toothpaste on my to...      Caroline Bologna   \n",
       "4  Amy Cooper accused investment firm Franklin Te...        Nina Golgowski   \n",
       "\n",
       "         date  \n",
       "0  2022-09-23  \n",
       "1  2022-09-23  \n",
       "2  2022-09-23  \n",
       "3  2022-09-23  \n",
       "4  2022-09-22  "
      ]
     },
     "execution_count": 174,
     "metadata": {},
     "output_type": "execute_result"
    }
   ],
   "source": [
    "# Displaying the first few rows\n",
    "print(\"Dataset preview:\")\n",
    "df.head()"
   ]
  },
  {
   "cell_type": "code",
   "execution_count": null,
   "metadata": {
    "colab": {
     "base_uri": "https://localhost:8080/"
    },
    "id": "gWvEFYWH0TGD",
    "outputId": "5fdca2a8-116f-444a-d1cd-a77ac91a7508"
   },
   "outputs": [
    {
     "name": "stdout",
     "output_type": "stream",
     "text": [
      "\n",
      "Dataset Info:\n",
      "<class 'pandas.core.frame.DataFrame'>\n",
      "RangeIndex: 209527 entries, 0 to 209526\n",
      "Data columns (total 6 columns):\n",
      " #   Column             Non-Null Count   Dtype \n",
      "---  ------             --------------   ----- \n",
      " 0   link               209527 non-null  object\n",
      " 1   headline           209527 non-null  object\n",
      " 2   category           209527 non-null  object\n",
      " 3   short_description  209527 non-null  object\n",
      " 4   authors            209527 non-null  object\n",
      " 5   date               209527 non-null  object\n",
      "dtypes: object(6)\n",
      "memory usage: 9.6+ MB\n"
     ]
    }
   ],
   "source": [
    "# Basic structure and overview\n",
    "print(\"\\nDataset Info:\")\n",
    "df.info()"
   ]
  },
  {
   "cell_type": "code",
   "execution_count": null,
   "metadata": {
    "colab": {
     "base_uri": "https://localhost:8080/"
    },
    "id": "GjQiZbT00TGE",
    "outputId": "42b3e38b-3756-4384-beb6-8194df7b6774"
   },
   "outputs": [
    {
     "name": "stdout",
     "output_type": "stream",
     "text": [
      "\n",
      "Number of unique categories: 42\n",
      "\n",
      "Categories:\n",
      "['U.S. NEWS' 'COMEDY' 'PARENTING' 'WORLD NEWS' 'CULTURE & ARTS' 'TECH'\n",
      " 'SPORTS' 'ENTERTAINMENT' 'POLITICS' 'WEIRD NEWS' 'ENVIRONMENT'\n",
      " 'EDUCATION' 'CRIME' 'SCIENCE' 'WELLNESS' 'BUSINESS' 'STYLE & BEAUTY'\n",
      " 'FOOD & DRINK' 'MEDIA' 'QUEER VOICES' 'HOME & LIVING' 'WOMEN'\n",
      " 'BLACK VOICES' 'TRAVEL' 'MONEY' 'RELIGION' 'LATINO VOICES' 'IMPACT'\n",
      " 'WEDDINGS' 'COLLEGE' 'PARENTS' 'ARTS & CULTURE' 'STYLE' 'GREEN' 'TASTE'\n",
      " 'HEALTHY LIVING' 'THE WORLDPOST' 'GOOD NEWS' 'WORLDPOST' 'FIFTY' 'ARTS'\n",
      " 'DIVORCE']\n",
      "\n",
      "Category distribution:\n",
      "category\n",
      "POLITICS          35602\n",
      "WELLNESS          17945\n",
      "ENTERTAINMENT     17362\n",
      "TRAVEL             9900\n",
      "STYLE & BEAUTY     9814\n",
      "PARENTING          8791\n",
      "HEALTHY LIVING     6694\n",
      "QUEER VOICES       6347\n",
      "FOOD & DRINK       6340\n",
      "BUSINESS           5992\n",
      "COMEDY             5400\n",
      "SPORTS             5077\n",
      "BLACK VOICES       4583\n",
      "HOME & LIVING      4320\n",
      "PARENTS            3955\n",
      "THE WORLDPOST      3664\n",
      "WEDDINGS           3653\n",
      "WOMEN              3572\n",
      "CRIME              3562\n",
      "IMPACT             3484\n",
      "DIVORCE            3426\n",
      "WORLD NEWS         3299\n",
      "MEDIA              2944\n",
      "WEIRD NEWS         2777\n",
      "GREEN              2622\n",
      "WORLDPOST          2579\n",
      "RELIGION           2577\n",
      "STYLE              2254\n",
      "SCIENCE            2206\n",
      "TECH               2104\n",
      "TASTE              2096\n",
      "MONEY              1756\n",
      "ARTS               1509\n",
      "ENVIRONMENT        1444\n",
      "FIFTY              1401\n",
      "GOOD NEWS          1398\n",
      "U.S. NEWS          1377\n",
      "ARTS & CULTURE     1339\n",
      "COLLEGE            1144\n",
      "LATINO VOICES      1130\n",
      "CULTURE & ARTS     1074\n",
      "EDUCATION          1014\n",
      "Name: count, dtype: int64\n"
     ]
    }
   ],
   "source": [
    "# Number of unique categories\n",
    "unique_categories = df['category'].nunique()\n",
    "print(f\"\\nNumber of unique categories: {unique_categories}\")\n",
    "\n",
    "# Displaying unique categories\n",
    "print(\"\\nCategories:\")\n",
    "print(df['category'].unique())\n",
    "\n",
    "# Number of records per category\n",
    "category_distribution = df['category'].value_counts()\n",
    "print(\"\\nCategory distribution:\")\n",
    "print(category_distribution)"
   ]
  },
  {
   "cell_type": "code",
   "execution_count": null,
   "metadata": {
    "colab": {
     "base_uri": "https://localhost:8080/"
    },
    "id": "lC_7XtsR0TGE",
    "outputId": "fb5d9849-d34e-46b5-efb8-81f46dd55ec1"
   },
   "outputs": [
    {
     "name": "stdout",
     "output_type": "stream",
     "text": [
      "\n",
      "Example record:\n",
      "headline             Over 4 Million Americans Roll Up Sleeves For O...\n",
      "short_description    Health experts said it is too early to predict...\n",
      "category                                                     U.S. NEWS\n",
      "Name: 0, dtype: object\n"
     ]
    }
   ],
   "source": [
    "# Example of text and category\n",
    "print(\"\\nExample record:\")\n",
    "print(df[['headline', 'short_description', 'category']].iloc[0])"
   ]
  },
  {
   "cell_type": "markdown",
   "metadata": {
    "id": "et8j3cFa0TGG"
   },
   "source": [
    "## 4.2. Preprocessing and Splitting"
   ]
  },
  {
   "cell_type": "markdown",
   "metadata": {
    "id": "fwQIfgOv0TGH"
   },
   "source": [
    "### Model token limits\n",
    "\n",
    "**gpt-4o**\n",
    "- Context window: 128,000 tokens\n",
    "- Max output tokens: 16,384 tokens\n",
    "- Training data: Up to Oct 2023\n",
    "\n",
    "**gpt-4o-mini**\n",
    "- Context window: 128,000 tokens\n",
    "- Max output tokens: 16,384 tokens\n",
    "- Training data: Up to Oct 2023"
   ]
  },
  {
   "cell_type": "code",
   "execution_count": null,
   "metadata": {
    "id": "UNRBtXBt0TGH"
   },
   "outputs": [],
   "source": [
    "# Cleanning function\n",
    "\n",
    "def clean_text(text):\n",
    "    text = re.sub(r'\\s+', ' ', text)  # Remove extra whitespace\n",
    "    text = re.sub(r'[^\\w\\s]', '', text)  # Remove punctuation\n",
    "    return text.lower()\n",
    "\n",
    "#df[\"text\"] = df[\"text\"].apply(clean_text)"
   ]
  },
  {
   "cell_type": "code",
   "execution_count": null,
   "metadata": {
    "id": "f6KeGeYx0TGI"
   },
   "outputs": [],
   "source": [
    "# Function to count tokens using OpenAI's tokenization scheme\n",
    "def count_tokens(text: str, model: str = \"text-embedding-ada-002\"):\n",
    "    \"\"\"\n",
    "    Counts the number of tokens in a given text using the tokenization scheme of OpenAI models.\n",
    "\n",
    "    Args:\n",
    "        text (str): The input text to be tokenized.\n",
    "        model (str): The OpenAI model whose tokenization scheme will be used.\n",
    "\n",
    "    Returns:\n",
    "        int: The number of tokens in the text.\n",
    "    \"\"\"\n",
    "    try:\n",
    "        encoding = tiktoken.encoding_for_model(model)\n",
    "        token_count = len(encoding.encode(text))\n",
    "        return token_count\n",
    "    except KeyError:\n",
    "        raise ValueError(f\"Model '{model}' is not supported for tokenization.\")"
   ]
  },
  {
   "cell_type": "code",
   "execution_count": null,
   "metadata": {
    "id": "fKlCxWZt0TGJ"
   },
   "outputs": [],
   "source": [
    "# Define a text splitter for long documents\n",
    "text_splitter = RecursiveCharacterTextSplitter(\n",
    "    chunk_size=500,  # Maximum tokens per chunk\n",
    "    chunk_overlap=100,  # Overlap between chunks to maintain context\n",
    ")"
   ]
  },
  {
   "cell_type": "code",
   "execution_count": null,
   "metadata": {
    "id": "FTCBagKw0TGJ"
   },
   "outputs": [],
   "source": [
    "# Function to process documents: check token count and split if necessary\n",
    "def process_documents(documents, chunk_size=500, model=\"text-embedding-ada-002\"):\n",
    "    \"\"\"\n",
    "    Processes a list of documents: splits long documents into smaller chunks if needed.\n",
    "\n",
    "    Args:\n",
    "        documents (list of langchain_core.documents.Document): The input documents.\n",
    "        chunk_size (int): The maximum token count per chunk.\n",
    "        model (str): The OpenAI model to use for token counting.\n",
    "\n",
    "    Returns:\n",
    "        list: Processed documents, split as necessary.\n",
    "    \"\"\"\n",
    "    processed_documents = []\n",
    "    for doc in documents:\n",
    "        token_count = count_tokens(doc.page_content, model=model)\n",
    "        #print(token_count)\n",
    "        if token_count > chunk_size:\n",
    "            # Split the document if token count exceeds chunk_size\n",
    "            chunks = text_splitter.split_documents([doc])\n",
    "            processed_documents.extend(chunks)\n",
    "        else:\n",
    "            # Keep the document as is\n",
    "            processed_documents.append(doc)\n",
    "    return processed_documents"
   ]
  },
  {
   "cell_type": "code",
   "execution_count": null,
   "metadata": {
    "id": "Q8g6iavv0TGL"
   },
   "outputs": [],
   "source": [
    "# Create documents with metadata and assign unique IDs\n",
    "documents = [\n",
    "    Document(\n",
    "        page_content=f\"{row['headline']}. {row['short_description']}\",\n",
    "        metadata={\n",
    "            \"id\": str(idx),  # Unique ID for each document\n",
    "            \"category\": row[\"category\"],\n",
    "            \"date\": row[\"date\"],\n",
    "            \"headline\": row[\"headline\"],\n",
    "        },\n",
    "    )\n",
    "    for idx, row in df.iterrows()\n",
    "]"
   ]
  },
  {
   "cell_type": "code",
   "execution_count": null,
   "metadata": {
    "id": "edth5e9f0TGL"
   },
   "outputs": [],
   "source": [
    "# Process the documents: split if necessary\n",
    "processed_documents = process_documents(documents)"
   ]
  },
  {
   "cell_type": "code",
   "execution_count": null,
   "metadata": {
    "id": "t3ZQnIV8jVj8"
   },
   "outputs": [],
   "source": [
    "# Map document IDs to their original text for later retrieval\n",
    "id_to_text = {doc.metadata[\"id\"]: doc.page_content for doc in processed_documents}"
   ]
  },
  {
   "cell_type": "markdown",
   "metadata": {
    "id": "gm7XvszO0TGO"
   },
   "source": [
    "## 4.3. Embedding Generation"
   ]
  },
  {
   "cell_type": "code",
   "execution_count": null,
   "metadata": {
    "id": "KJwzJVl50TGO"
   },
   "outputs": [],
   "source": [
    "# Initialize the embedding model\n",
    "embedding_model = HuggingFaceEmbeddings(model_name=\"all-MiniLM-L6-v2\")  # Sentence Transformers on Hugging Face"
   ]
  },
  {
   "cell_type": "markdown",
   "metadata": {
    "id": "TzOoV3pv0TGP"
   },
   "source": [
    "## 4.4. Vectorstore Creation"
   ]
  },
  {
   "cell_type": "code",
   "execution_count": null,
   "metadata": {
    "colab": {
     "base_uri": "https://localhost:8080/",
     "height": 35
    },
    "id": "TiYF-UyP0TGP",
    "outputId": "38c7e70e-bd52-4049-b07a-c6ecca63adc3"
   },
   "outputs": [
    {
     "data": {
      "application/vnd.google.colaboratory.intrinsic+json": {
       "type": "string"
      },
      "text/plain": [
       "'\\n# Create a FAISS VectorStore\\nvectorstore = FAISS.from_documents(documents=processed_documents, embedding=embedding_model)\\n'"
      ]
     },
     "execution_count": 186,
     "metadata": {},
     "output_type": "execute_result"
    }
   ],
   "source": [
    "\"\"\"\n",
    "# Create a FAISS VectorStore\n",
    "vectorstore = FAISS.from_documents(documents=processed_documents, embedding=embedding_model)\n",
    "\"\"\"\n"
   ]
  },
  {
   "cell_type": "code",
   "execution_count": null,
   "metadata": {
    "colab": {
     "base_uri": "https://localhost:8080/",
     "height": 53
    },
    "id": "BM3d1B5e0TGQ",
    "outputId": "80bae37d-6bd5-4c67-dd30-ea45b6236403"
   },
   "outputs": [
    {
     "data": {
      "application/vnd.google.colaboratory.intrinsic+json": {
       "type": "string"
      },
      "text/plain": [
       "'\\n# Verify the VectorStore\\nprint(f\"Number of documents in VectorStore: {len(processed_documents)}\")\\nfor doc in processed_documents[:5]:\\n    print(f\"Content: {doc.page_content[:100]}... | Metadata: {doc.metadata}\")\\n'"
      ]
     },
     "execution_count": 187,
     "metadata": {},
     "output_type": "execute_result"
    }
   ],
   "source": [
    "\"\"\"\n",
    "# Verify the VectorStore\n",
    "print(f\"Number of documents in VectorStore: {len(processed_documents)}\")\n",
    "for doc in processed_documents[:5]:\n",
    "    print(f\"Content: {doc.page_content[:100]}... | Metadata: {doc.metadata}\")\n",
    "\"\"\""
   ]
  },
  {
   "cell_type": "code",
   "execution_count": null,
   "metadata": {
    "colab": {
     "base_uri": "https://localhost:8080/",
     "height": 53
    },
    "id": "6XO7kJDb0TGR",
    "outputId": "55215676-95c5-4bad-d1e1-587913b739ad"
   },
   "outputs": [
    {
     "data": {
      "application/vnd.google.colaboratory.intrinsic+json": {
       "type": "string"
      },
      "text/plain": [
       "'# Save the vectorstore to disk for future use\\nvectorstore.save_local(\"/content/drive/MyDrive/Colab Notebooks/dow_jones/results/vectorstore_news_category\")\\n# vectorstore.persist(directory=\"../results/vectorstore_news_category\") # To maintain Chorma\\'s format\\n'"
      ]
     },
     "execution_count": 188,
     "metadata": {},
     "output_type": "execute_result"
    }
   ],
   "source": [
    "\"\"\"# Save the vectorstore to disk for future use\n",
    "vectorstore.save_local(\"/content/drive/MyDrive/Colab Notebooks/dow_jones/results/vectorstore_news_category\")\n",
    "# vectorstore.persist(directory=\"../results/vectorstore_news_category\") # To maintain Chorma's format\n",
    "\"\"\""
   ]
  },
  {
   "cell_type": "code",
   "execution_count": null,
   "metadata": {
    "id": "p9uk83ZL0TGR"
   },
   "outputs": [],
   "source": [
    "# Load the vectorstore from the local directory\n",
    "vectorstore = FAISS.load_local(\"/content/drive/MyDrive/Colab Notebooks/dow_jones/results/vectorstore_news_category\", embeddings=embedding_model,  allow_dangerous_deserialization=True)"
   ]
  },
  {
   "cell_type": "code",
   "execution_count": null,
   "metadata": {
    "colab": {
     "base_uri": "https://localhost:8080/"
    },
    "id": "WhBVEkXjdcgI",
    "outputId": "4a6c00a6-f32e-470c-f8cd-95c68600ee74"
   },
   "outputs": [
    {
     "name": "stdout",
     "output_type": "stream",
     "text": [
      "Number of documents in VectorStore: 209527\n",
      "Content: Over 4 Million Americans Roll Up Sleeves For Omicron-Targeted COVID Boosters. Health experts said it... | Metadata: {'id': '0', 'category': 'U.S. NEWS', 'date': '2022-09-23', 'headline': 'Over 4 Million Americans Roll Up Sleeves For Omicron-Targeted COVID Boosters'}\n",
      "Content: American Airlines Flyer Charged, Banned For Life After Punching Flight Attendant On Video. He was su... | Metadata: {'id': '1', 'category': 'U.S. NEWS', 'date': '2022-09-23', 'headline': 'American Airlines Flyer Charged, Banned For Life After Punching Flight Attendant On Video'}\n",
      "Content: 23 Of The Funniest Tweets About Cats And Dogs This Week (Sept. 17-23). \"Until you have a dog you don... | Metadata: {'id': '2', 'category': 'COMEDY', 'date': '2022-09-23', 'headline': '23 Of The Funniest Tweets About Cats And Dogs This Week (Sept. 17-23)'}\n",
      "Content: The Funniest Tweets From Parents This Week (Sept. 17-23). \"Accidentally put grown-up toothpaste on m... | Metadata: {'id': '3', 'category': 'PARENTING', 'date': '2022-09-23', 'headline': 'The Funniest Tweets From Parents This Week (Sept. 17-23)'}\n",
      "Content: Woman Who Called Cops On Black Bird-Watcher Loses Lawsuit Against Ex-Employer. Amy Cooper accused in... | Metadata: {'id': '4', 'category': 'U.S. NEWS', 'date': '2022-09-22', 'headline': 'Woman Who Called Cops On Black Bird-Watcher Loses Lawsuit Against Ex-Employer'}\n"
     ]
    }
   ],
   "source": [
    "# Verify the VectorStore\n",
    "print(f\"Number of documents in VectorStore: {len(processed_documents)}\")\n",
    "for doc in processed_documents[:5]:\n",
    "    print(f\"Content: {doc.page_content[:100]}... | Metadata: {doc.metadata}\")"
   ]
  },
  {
   "cell_type": "code",
   "execution_count": null,
   "metadata": {
    "colab": {
     "base_uri": "https://localhost:8080/"
    },
    "id": "EQVgm7LVdh-j",
    "outputId": "43199892-562f-4402-f1f4-3d0355566c66"
   },
   "outputs": [
    {
     "name": "stdout",
     "output_type": "stream",
     "text": [
      "Doc ID: 0a95b053-2bdb-4830-8f0f-a5b495e1d060, Content: Over 4 Million Americans Roll Up Sleeves For Omicron-Targeted COVID Boosters. Health experts said it, Metadata: {'id': '0', 'category': 'U.S. NEWS', 'date': '2022-09-23', 'headline': 'Over 4 Million Americans Roll Up Sleeves For Omicron-Targeted COVID Boosters'}\n",
      "Doc ID: 2cd16f28-3b28-451a-87fa-931d642bb5bb, Content: American Airlines Flyer Charged, Banned For Life After Punching Flight Attendant On Video. He was su, Metadata: {'id': '1', 'category': 'U.S. NEWS', 'date': '2022-09-23', 'headline': 'American Airlines Flyer Charged, Banned For Life After Punching Flight Attendant On Video'}\n",
      "Doc ID: fa043dc4-d127-4423-a860-a47bd3f560d7, Content: 23 Of The Funniest Tweets About Cats And Dogs This Week (Sept. 17-23). \"Until you have a dog you don, Metadata: {'id': '2', 'category': 'COMEDY', 'date': '2022-09-23', 'headline': '23 Of The Funniest Tweets About Cats And Dogs This Week (Sept. 17-23)'}\n",
      "Doc ID: dba94f4e-c73e-4614-89e9-737a4de6aaa7, Content: The Funniest Tweets From Parents This Week (Sept. 17-23). \"Accidentally put grown-up toothpaste on m, Metadata: {'id': '3', 'category': 'PARENTING', 'date': '2022-09-23', 'headline': 'The Funniest Tweets From Parents This Week (Sept. 17-23)'}\n",
      "Doc ID: 465da011-9199-4305-be3c-83dc6ab387a0, Content: Woman Who Called Cops On Black Bird-Watcher Loses Lawsuit Against Ex-Employer. Amy Cooper accused in, Metadata: {'id': '4', 'category': 'U.S. NEWS', 'date': '2022-09-22', 'headline': 'Woman Who Called Cops On Black Bird-Watcher Loses Lawsuit Against Ex-Employer'}\n",
      "Doc ID: 09fe42c7-4c93-4abe-81ca-c01abf539b84, Content: Cleaner Was Dead In Belk Bathroom For 4 Days Before Body Found: Police. The 63-year-old woman was se, Metadata: {'id': '5', 'category': 'U.S. NEWS', 'date': '2022-09-22', 'headline': 'Cleaner Was Dead In Belk Bathroom For 4 Days Before Body Found: Police'}\n",
      "Doc ID: 3a516608-a486-428f-996a-2b5329e38326, Content: Reporter Gets Adorable Surprise From Her Boyfriend While Live On TV. \"Who's that behind you?\" an anc, Metadata: {'id': '6', 'category': 'U.S. NEWS', 'date': '2022-09-22', 'headline': 'Reporter Gets Adorable Surprise From Her Boyfriend While Live On TV'}\n",
      "Doc ID: 0ea65213-cf4a-4c8d-b51d-8dc01ed4ed00, Content: Puerto Ricans Desperate For Water After Hurricane Fiona’s Rampage. More than half a million people r, Metadata: {'id': '7', 'category': 'WORLD NEWS', 'date': '2022-09-22', 'headline': 'Puerto Ricans Desperate For Water After Hurricane Fiona’s Rampage'}\n",
      "Doc ID: 400de0c2-5811-4589-a941-1d78228f2c13, Content: How A New Documentary Captures The Complexity Of Being A Child Of Immigrants. In \"Mija,\" director Is, Metadata: {'id': '8', 'category': 'CULTURE & ARTS', 'date': '2022-09-22', 'headline': 'How A New Documentary Captures The Complexity Of Being A Child Of Immigrants'}\n",
      "Doc ID: 53986712-561e-48e0-894d-d25c5bb4f9e9, Content: Biden At UN To Call Russian War An Affront To Body's Charter. White House officials say the crux of , Metadata: {'id': '9', 'category': 'WORLD NEWS', 'date': '2022-09-21', 'headline': \"Biden At UN To Call Russian War An Affront To Body's Charter\"}\n"
     ]
    }
   ],
   "source": [
    "# Verify documents in the docstore\n",
    "n = 0\n",
    "for doc_id, doc in vectorstore.docstore._dict.items():\n",
    "    n+=1\n",
    "    print(f\"Doc ID: {doc_id}, Content: {doc.page_content[:100]}, Metadata: {doc.metadata}\")\n",
    "    if n==10:\n",
    "      break\n"
   ]
  },
  {
   "cell_type": "markdown",
   "metadata": {
    "id": "Kcf65fcEOTmn"
   },
   "source": [
    "## 4.5. Retrival Process"
   ]
  },
  {
   "cell_type": "code",
   "execution_count": null,
   "metadata": {
    "id": "WqQbZUO-vkYG"
   },
   "outputs": [],
   "source": [
    "# Create the object Document Retriver (VectorStoreRetriever instance)\n",
    "retriever = vectorstore.as_retriever(\n",
    "    search_type=\"similarity\",\n",
    "    search_kwargs={\n",
    "        \"k\": 10,\n",
    "        #\"filter\": {\"category\": \"politics\"}  # Ejemplo: filtrar por categoría\n",
    "    }\n",
    ")"
   ]
  },
  {
   "cell_type": "code",
   "execution_count": null,
   "metadata": {
    "colab": {
     "base_uri": "https://localhost:8080/"
    },
    "id": "TeRTtUE3xQWk",
    "outputId": "62493500-430d-4629-f67b-e5fd0dbabce9"
   },
   "outputs": [
    {
     "name": "stdout",
     "output_type": "stream",
     "text": [
      "\n",
      "Document 1:\n",
      "Content: HUFFPOLLSTER: Republicans And Democrats Are Growing Even Further Apart. The country's changing demographics have affected both parties, but in drastically different ways.:\n",
      "Metadata: {'id': '56761', 'category': 'POLITICS', 'date': '2016-09-13', 'headline': 'HUFFPOLLSTER: Republicans And Democrats Are Growing Even Further Apart'}\n",
      "\n",
      "Document 2:\n",
      "Content: See The Latest Updates On Elections From Around The Nation. :\n",
      "Metadata: {'id': '116223', 'category': 'POLITICS', 'date': '2014-11-04', 'headline': 'See The Latest Updates On Elections From Around The Nation'}\n",
      "\n",
      "Document 3:\n",
      "Content: Top 10 Tech Trends Transforming Humanity. Even amid a year of disheartening political news, 2016 brought a number of advancements that are changing the global tech terrain:\n",
      "Metadata: {'id': '47046', 'category': 'TECH', 'date': '2017-01-02', 'headline': 'Top 10 Tech Trends Transforming Humanity'}\n",
      "\n",
      "Document 4:\n",
      "Content: Congress Sets Politics Aside for Critical Development and Humanitarian Issues. 2014 saw an unprecedented number of humanitarian crises around the globe. At the same time, this year's mid-term congressional elections brought partisan tensions to new highs inside the Washington Beltway.:\n",
      "Metadata: {'id': '111662', 'category': 'IMPACT', 'date': '2014-12-27', 'headline': 'Congress Sets Politics Aside for Critical Development and Humanitarian Issues'}\n",
      "\n",
      "Document 5:\n",
      "Content: Leadership and Transparency 2015: The Social Media Imperative. By the time \"trends\" get mentioned in new year forecast blog posts, they can be a little more \"old\" than \"news.\" Though forward motion is always worth celebrating, change usually happens more slowly.:\n",
      "Metadata: {'id': '110834', 'category': 'BUSINESS', 'date': '2015-01-05', 'headline': 'Leadership and Transparency 2015: The Social Media Imperative'}\n",
      "\n",
      "Document 6:\n",
      "Content: Five Emerging Trends for the U.S. Elections. With the Iowa caucuses around the corner, the election fever should ideally be catching up. Far from it. There is an apparent gloom looming large over the American electorate.:\n",
      "Metadata: {'id': '76589', 'category': 'POLITICS', 'date': '2016-01-31', 'headline': 'Five Emerging Trends for the U.S. Elections'}\n",
      "\n",
      "Document 7:\n",
      "Content: The Future of Elections. We need to set an example to the world, which is facing a recession of democratic governance. Exploring ways to empower the people's vote would be the biggest innovation in governance in a long, long time.:\n",
      "Metadata: {'id': '101009', 'category': 'POLITICS', 'date': '2015-04-29', 'headline': 'The Future of Elections'}\n",
      "\n",
      "Document 8:\n",
      "Content: Changing The Political Climate. For months, activists, especially nonprofit and philanthropic leaders have been worrying about how they can best operate:\n",
      "Metadata: {'id': '38630', 'category': 'POLITICS', 'date': '2017-04-07', 'headline': 'Changing The Political Climate'}\n",
      "\n",
      "Document 9:\n",
      "Content: 2018: Moving Beyond Trump — Rebuilding Our Civilizations From Source. The year 2017 was strange. Full of surprises. Maybe the most significant and least noticed one came at the very end. Let:\n",
      "Metadata: {'id': '17298', 'category': 'IMPACT', 'date': '2017-12-30', 'headline': '2018: Moving Beyond Trump — Rebuilding Our Civilizations From Source'}\n",
      "\n",
      "Document 10:\n",
      "Content: Data: The Next Political Casualty?. Over the past seven years, tremendous momentum has grown behind the public release of data held by the U.S. government, and governments at all levels.:\n",
      "Metadata: {'id': '47448', 'category': 'POLITICS', 'date': '2016-12-28', 'headline': 'Data: The Next Political Casualty?'}\n"
     ]
    }
   ],
   "source": [
    "# Example query\n",
    "query = \"What are the latest political developments?\"\n",
    "results = retriever.get_relevant_documents(query)\n",
    "\n",
    "# Display retrieved documents\n",
    "for idx, doc in enumerate(results):\n",
    "    print(f\"\\nDocument {idx + 1}:\")\n",
    "    print(f\"Content: {doc.page_content}:\")\n",
    "    print(f\"Metadata: {doc.metadata}\")"
   ]
  },
  {
   "cell_type": "code",
   "execution_count": null,
   "metadata": {
    "id": "fRngiEd91xR4"
   },
   "outputs": [],
   "source": [
    "# Create the object Document Retriver (VectorStoreRetriever instance)\n",
    "retriever_mmr = vectorstore.as_retriever(\n",
    "    search_type=\"mmr\",\n",
    "    search_kwargs={\n",
    "        \"k\": 10,\n",
    "        #\"filter\": {\"category\": \"politics\"}  # Ejemplo: filtrar por categoría\n",
    "    }\n",
    ")"
   ]
  },
  {
   "cell_type": "code",
   "execution_count": null,
   "metadata": {
    "colab": {
     "base_uri": "https://localhost:8080/"
    },
    "id": "-KjilryI11Cs",
    "outputId": "5dac85db-828f-4666-e4ec-9e88a8d02326"
   },
   "outputs": [
    {
     "name": "stdout",
     "output_type": "stream",
     "text": [
      "\n",
      "Document 1:\n",
      "Content: HUFFPOLLSTER: Republicans And Democrats Are Growing Even Further Apart. The country's changing demographics have affected both parties, but in drastically different ways.:\n",
      "Metadata: {'id': '56761', 'category': 'POLITICS', 'date': '2016-09-13', 'headline': 'HUFFPOLLSTER: Republicans And Democrats Are Growing Even Further Apart'}\n",
      "\n",
      "Document 2:\n",
      "Content: Top 10 Tech Trends Transforming Humanity. Even amid a year of disheartening political news, 2016 brought a number of advancements that are changing the global tech terrain:\n",
      "Metadata: {'id': '47046', 'category': 'TECH', 'date': '2017-01-02', 'headline': 'Top 10 Tech Trends Transforming Humanity'}\n",
      "\n",
      "Document 3:\n",
      "Content: Division Over Riders Forcing Congress To Edge Of Government-Funding Deadline. But what's new?:\n",
      "Metadata: {'id': '81167', 'category': 'POLITICS', 'date': '2015-12-09', 'headline': 'Division Over Riders Forcing Congress To Edge Of Government-Funding Deadline'}\n",
      "\n",
      "Document 4:\n",
      "Content: Gun Safes and Politics. The August 2014 issue of Guns and Ammo has an interesting article on a new generation of gun safes. While this probably is not of interest to many of my readers, it tells a bit about politics as well.:\n",
      "Metadata: {'id': '125509', 'category': 'POLITICS', 'date': '2014-07-22', 'headline': 'Gun Safes and Politics'}\n",
      "\n",
      "Document 5:\n",
      "Content: The Future of Elections. We need to set an example to the world, which is facing a recession of democratic governance. Exploring ways to empower the people's vote would be the biggest innovation in governance in a long, long time.:\n",
      "Metadata: {'id': '101009', 'category': 'POLITICS', 'date': '2015-04-29', 'headline': 'The Future of Elections'}\n",
      "\n",
      "Document 6:\n",
      "Content: Rising Political Risk in Asia. :\n",
      "Metadata: {'id': '44025', 'category': 'WORLDPOST', 'date': '2017-02-04', 'headline': 'Rising Political Risk in Asia'}\n",
      "\n",
      "Document 7:\n",
      "Content: Changing The Political Climate. For months, activists, especially nonprofit and philanthropic leaders have been worrying about how they can best operate:\n",
      "Metadata: {'id': '38630', 'category': 'POLITICS', 'date': '2017-04-07', 'headline': 'Changing The Political Climate'}\n",
      "\n",
      "Document 8:\n",
      "Content: Data: The Next Political Casualty?. Over the past seven years, tremendous momentum has grown behind the public release of data held by the U.S. government, and governments at all levels.:\n",
      "Metadata: {'id': '47448', 'category': 'POLITICS', 'date': '2016-12-28', 'headline': 'Data: The Next Political Casualty?'}\n",
      "\n",
      "Document 9:\n",
      "Content: See The Latest Updates On Elections From Around The Nation. :\n",
      "Metadata: {'id': '116223', 'category': 'POLITICS', 'date': '2014-11-04', 'headline': 'See The Latest Updates On Elections From Around The Nation'}\n",
      "\n",
      "Document 10:\n",
      "Content: The South's Rising Progressive Stars. They will most likely become national figures in the next few years.:\n",
      "Metadata: {'id': '25374', 'category': 'IMPACT', 'date': '2017-09-12', 'headline': \"The South's Rising Progressive Stars\"}\n"
     ]
    }
   ],
   "source": [
    "# Example query\n",
    "query = \"What are the latest political developments?\"\n",
    "results = retriever_mmr.get_relevant_documents(query)\n",
    "\n",
    "# Display retrieved documents\n",
    "for idx, doc in enumerate(results):\n",
    "    print(f\"\\nDocument {idx + 1}:\")\n",
    "    print(f\"Content: {doc.page_content}:\")\n",
    "    print(f\"Metadata: {doc.metadata}\")"
   ]
  },
  {
   "cell_type": "markdown",
   "metadata": {
    "id": "VBge2flo5yF-"
   },
   "source": [
    "## 4.6. Expansion Opportunities - QA with Generative AI"
   ]
  },
  {
   "cell_type": "code",
   "execution_count": null,
   "metadata": {
    "id": "V0pOKuo650wu"
   },
   "outputs": [],
   "source": [
    "# Initialize OpenAI LLM\n",
    "llm_openai = ChatOpenAI(\n",
    "    model=\"gpt-4o-mini\",\n",
    "    temperature=0,\n",
    "    max_tokens=500\n",
    "    )"
   ]
  },
  {
   "cell_type": "code",
   "execution_count": null,
   "metadata": {
    "id": "OkIwdERXLQiB"
   },
   "outputs": [],
   "source": [
    "# llm_openai.invoke(\"Hello, world!\")"
   ]
  },
  {
   "cell_type": "code",
   "execution_count": null,
   "metadata": {
    "id": "G-qmzvOdJnxS"
   },
   "outputs": [],
   "source": [
    "# # Initialize MistralAI LLM\n",
    "llm_mistralai = ChatMistralAI(\n",
    "    model=\"open-mistral-nemo\",\n",
    "    temperature=0,\n",
    "    #max_tokens=500\n",
    "    )"
   ]
  },
  {
   "cell_type": "code",
   "execution_count": null,
   "metadata": {
    "colab": {
     "base_uri": "https://localhost:8080/"
    },
    "id": "LTDlyAEELUci",
    "outputId": "7b80ebd7-97fe-4513-fe93-ee9e257c45a9"
   },
   "outputs": [
    {
     "data": {
      "text/plain": [
       "AIMessage(content=\"Hello! How can I assist you today? Let's chat about anything you'd like. 😊\", additional_kwargs={}, response_metadata={'token_usage': {'prompt_tokens': 7, 'total_tokens': 28, 'completion_tokens': 21}, 'model': 'open-mistral-nemo', 'finish_reason': 'stop'}, id='run-6b52eff3-8843-46bc-9f98-8e2229988544-0', usage_metadata={'input_tokens': 7, 'output_tokens': 21, 'total_tokens': 28})"
      ]
     },
     "execution_count": 199,
     "metadata": {},
     "output_type": "execute_result"
    }
   ],
   "source": [
    "llm_mistralai.invoke(\"Hello, world!\")"
   ]
  },
  {
   "cell_type": "code",
   "execution_count": null,
   "metadata": {
    "id": "LqsAmUdr8Ik_"
   },
   "outputs": [],
   "source": [
    "# Create the prompt\n",
    "\n",
    "system_prompt = (\n",
    "    \"You are an assistant for question-answering tasks. \"\n",
    "    \"Use the following pieces of retrieved context to answer \"\n",
    "    \"the question. If you don't know the answer, say that you \"\n",
    "    \"don't know. Use three sentences maximum and keep the \"\n",
    "    \"answer concise.\"\n",
    "    \"\\n\\n\"\n",
    "    \"{context}\"\n",
    ")\n",
    "\n",
    "prompt = ChatPromptTemplate.from_messages(\n",
    "    [\n",
    "        (\"system\", system_prompt),\n",
    "        (\"human\", \"{input}\"),\n",
    "    ]\n",
    ")"
   ]
  },
  {
   "cell_type": "code",
   "execution_count": null,
   "metadata": {
    "id": "PxKCyw_W86TM"
   },
   "outputs": [],
   "source": [
    "# To stuff the contents into the prompt (retrived context withount any summarization)\n",
    "question_answer_chain = create_stuff_documents_chain(llm_mistralai, prompt)\n",
    "\n",
    "# Create the retrieval chain that retrieves documents and then passes them on.\n",
    "rag_chain = create_retrieval_chain(retriever, question_answer_chain)"
   ]
  },
  {
   "cell_type": "code",
   "execution_count": null,
   "metadata": {
    "colab": {
     "base_uri": "https://localhost:8080/"
    },
    "id": "N9GCD-s3AMkt",
    "outputId": "695f98d8-1bf2-4402-bf41-f0450879f289"
   },
   "outputs": [
    {
     "name": "stdout",
     "output_type": "stream",
     "text": [
      "The latest political developments include growing partisan divisions between Republicans and Democrats in the U.S., with the country's changing demographics affecting each party differently. Additionally, the 2020 U.S. election cycle is underway, with the Iowa caucuses having taken place recently.\n"
     ]
    }
   ],
   "source": [
    "# Example query\n",
    "response = rag_chain.invoke({\"input\": \"What are the latest political developments?\"})\n",
    "print(response[\"answer\"])"
   ]
  },
  {
   "cell_type": "code",
   "execution_count": null,
   "metadata": {
    "colab": {
     "base_uri": "https://localhost:8080/"
    },
    "id": "pZeRitH_0TGR",
    "outputId": "372b71aa-6997-4adc-8cfa-4c8fbf6070d2"
   },
   "outputs": [
    {
     "name": "stdout",
     "output_type": "stream",
     "text": [
      "page_content='HUFFPOLLSTER: Republicans And Democrats Are Growing Even Further Apart. The country's changing demographics have affected both parties, but in drastically different ways.' metadata={'id': '56761', 'category': 'POLITICS', 'date': '2016-09-13', 'headline': 'HUFFPOLLSTER: Republicans And Democrats Are Growing Even Further Apart'}\n",
      "\n",
      "page_content='See The Latest Updates On Elections From Around The Nation. ' metadata={'id': '116223', 'category': 'POLITICS', 'date': '2014-11-04', 'headline': 'See The Latest Updates On Elections From Around The Nation'}\n",
      "\n",
      "page_content='Top 10 Tech Trends Transforming Humanity. Even amid a year of disheartening political news, 2016 brought a number of advancements that are changing the global tech terrain' metadata={'id': '47046', 'category': 'TECH', 'date': '2017-01-02', 'headline': 'Top 10 Tech Trends Transforming Humanity'}\n",
      "\n",
      "page_content='Congress Sets Politics Aside for Critical Development and Humanitarian Issues. 2014 saw an unprecedented number of humanitarian crises around the globe. At the same time, this year's mid-term congressional elections brought partisan tensions to new highs inside the Washington Beltway.' metadata={'id': '111662', 'category': 'IMPACT', 'date': '2014-12-27', 'headline': 'Congress Sets Politics Aside for Critical Development and Humanitarian Issues'}\n",
      "\n",
      "page_content='Leadership and Transparency 2015: The Social Media Imperative. By the time \"trends\" get mentioned in new year forecast blog posts, they can be a little more \"old\" than \"news.\" Though forward motion is always worth celebrating, change usually happens more slowly.' metadata={'id': '110834', 'category': 'BUSINESS', 'date': '2015-01-05', 'headline': 'Leadership and Transparency 2015: The Social Media Imperative'}\n",
      "\n",
      "page_content='Five Emerging Trends for the U.S. Elections. With the Iowa caucuses around the corner, the election fever should ideally be catching up. Far from it. There is an apparent gloom looming large over the American electorate.' metadata={'id': '76589', 'category': 'POLITICS', 'date': '2016-01-31', 'headline': 'Five Emerging Trends for the U.S. Elections'}\n",
      "\n",
      "page_content='The Future of Elections. We need to set an example to the world, which is facing a recession of democratic governance. Exploring ways to empower the people's vote would be the biggest innovation in governance in a long, long time.' metadata={'id': '101009', 'category': 'POLITICS', 'date': '2015-04-29', 'headline': 'The Future of Elections'}\n",
      "\n",
      "page_content='Changing The Political Climate. For months, activists, especially nonprofit and philanthropic leaders have been worrying about how they can best operate' metadata={'id': '38630', 'category': 'POLITICS', 'date': '2017-04-07', 'headline': 'Changing The Political Climate'}\n",
      "\n",
      "page_content='2018: Moving Beyond Trump — Rebuilding Our Civilizations From Source. The year 2017 was strange. Full of surprises. Maybe the most significant and least noticed one came at the very end. Let' metadata={'id': '17298', 'category': 'IMPACT', 'date': '2017-12-30', 'headline': '2018: Moving Beyond Trump — Rebuilding Our Civilizations From Source'}\n",
      "\n",
      "page_content='Data: The Next Political Casualty?. Over the past seven years, tremendous momentum has grown behind the public release of data held by the U.S. government, and governments at all levels.' metadata={'id': '47448', 'category': 'POLITICS', 'date': '2016-12-28', 'headline': 'Data: The Next Political Casualty?'}\n",
      "\n"
     ]
    }
   ],
   "source": [
    "# Return the sources that were used to generate the answer\n",
    "for document in response[\"context\"]:\n",
    "    print(document)\n",
    "    print()"
   ]
  },
  {
   "cell_type": "markdown",
   "metadata": {
    "id": "Nj10stWoSxI-"
   },
   "source": [
    "## 4.7. Expansion Opportunities - Topic extraction"
   ]
  },
  {
   "cell_type": "code",
   "execution_count": null,
   "metadata": {
    "colab": {
     "base_uri": "https://localhost:8080/",
     "height": 70
    },
    "id": "lugqkU7mXBWv",
    "outputId": "3a981c0a-5a59-45d7-d1a4-16a7474fe2c1"
   },
   "outputs": [
    {
     "data": {
      "application/vnd.google.colaboratory.intrinsic+json": {
       "type": "string"
      },
      "text/plain": [
       "'\\n# Extracting embeddings and metadata from the vectorstore\\nembeddings = []\\nmetadata = []\\n\\nfor i in range(len(vectorstore.docstore._dict)):\\n    embedding_vector = vectorstore.index.reconstruct(i)  # Rebuild embedding by index\\n    embeddings.append(embedding_vector)\\n    doc_id = list(vectorstore.docstore._dict.keys())[i]  # Obtain document ID\\n    metadata.append(vectorstore.docstore._dict[doc_id].metadata)\\n\\nembeddings = np.array(embeddings)\\n'"
      ]
     },
     "execution_count": 208,
     "metadata": {},
     "output_type": "execute_result"
    }
   ],
   "source": [
    "\"\"\"\n",
    "# Extracting embeddings and metadata from the vectorstore\n",
    "embeddings = []\n",
    "metadata = []\n",
    "\n",
    "for i in range(len(vectorstore.docstore._dict)):\n",
    "    embedding_vector = vectorstore.index.reconstruct(i)  # Rebuild embedding by index\n",
    "    embeddings.append(embedding_vector)\n",
    "    doc_id = list(vectorstore.docstore._dict.keys())[i]  # Obtain document ID\n",
    "    metadata.append(vectorstore.docstore._dict[doc_id].metadata)\n",
    "\n",
    "embeddings = np.array(embeddings)\n",
    "\"\"\""
   ]
  },
  {
   "cell_type": "code",
   "execution_count": null,
   "metadata": {
    "colab": {
     "base_uri": "https://localhost:8080/",
     "height": 53
    },
    "id": "BAoh8Bmu0SjH",
    "outputId": "9cee953e-1e4e-4dbf-a7fa-9cef8c202842"
   },
   "outputs": [
    {
     "data": {
      "application/vnd.google.colaboratory.intrinsic+json": {
       "type": "string"
      },
      "text/plain": [
       "'\\n# Save embeddings and metadata\\n\\nembeddings_path = \"/content/drive/MyDrive/Colab Notebooks/dow_jones/results/embeddings.npy\"\\nnp.save(embeddings_path, embeddings)\\n\\nmetadata_path = \"/content/drive/MyDrive/Colab Notebooks/dow_jones/results/metadata.pkl\"\\nwith open(metadata_path, \"wb\") as f:\\n    pickle.dump(metadata, f)\\n'"
      ]
     },
     "execution_count": 209,
     "metadata": {},
     "output_type": "execute_result"
    }
   ],
   "source": [
    "\"\"\"\n",
    "# Save embeddings and metadata\n",
    "\n",
    "embeddings_path = \"/content/drive/MyDrive/Colab Notebooks/dow_jones/results/embeddings.npy\"\n",
    "np.save(embeddings_path, embeddings)\n",
    "\n",
    "metadata_path = \"/content/drive/MyDrive/Colab Notebooks/dow_jones/results/metadata.pkl\"\n",
    "with open(metadata_path, \"wb\") as f:\n",
    "    pickle.dump(metadata, f)\n",
    "\"\"\""
   ]
  },
  {
   "cell_type": "code",
   "execution_count": null,
   "metadata": {
    "id": "UZPSejq45CJu"
   },
   "outputs": [],
   "source": [
    "# Load embeddings and metadata\n",
    "embeddings_path = \"/content/drive/MyDrive/Colab Notebooks/dow_jones/results/embeddings.npy\"\n",
    "embeddings = np.load(embeddings_path)\n",
    "metadata_path = \"/content/drive/MyDrive/Colab Notebooks/dow_jones/results/metadata.pkl\"\n",
    "with open(metadata_path, \"rb\") as f:\n",
    "    metadata = pickle.load(f)"
   ]
  },
  {
   "cell_type": "code",
   "execution_count": null,
   "metadata": {
    "colab": {
     "base_uri": "https://localhost:8080/",
     "height": 70
    },
    "id": "TbDUPVLOp3xI",
    "outputId": "189ca45d-555c-4314-be78-6044ad5e5f7c"
   },
   "outputs": [
    {
     "data": {
      "application/vnd.google.colaboratory.intrinsic+json": {
       "type": "string"
      },
      "text/plain": [
       "'\\n# Determining the optimal number of clusters using the elbow method\\n\\ndef find_optimal_k(embeddings, max_k=10):\\n    inertia = []\\n    silhouette_scores = []\\n    k_range = range(2, max_k + 1)\\n    \\n    for k in k_range:\\n        kmeans = MiniBatchKMeans(n_clusters=k, random_state=42)\\n        kmeans.fit(embeddings)\\n        inertia.append(kmeans.inertia_)\\n        silhouette_scores.append(silhouette_score(embeddings, kmeans.labels_))\\n    \\n    return k_range, inertia, silhouette_scores\\n'"
      ]
     },
     "execution_count": 211,
     "metadata": {},
     "output_type": "execute_result"
    }
   ],
   "source": [
    "# Imposssible to execute becouse of the needed time\n",
    "\"\"\"\n",
    "# Determining the optimal number of clusters using the elbow method\n",
    "\n",
    "def find_optimal_k(embeddings, max_k=10):\n",
    "    inertia = []\n",
    "    silhouette_scores = []\n",
    "    k_range = range(2, max_k + 1)\n",
    "\n",
    "    for k in k_range:\n",
    "        kmeans = MiniBatchKMeans(n_clusters=k, random_state=42)\n",
    "        kmeans.fit(embeddings)\n",
    "        inertia.append(kmeans.inertia_)\n",
    "        silhouette_scores.append(silhouette_score(embeddings, kmeans.labels_))\n",
    "\n",
    "    return k_range, inertia, silhouette_scores\n",
    "\"\"\""
   ]
  },
  {
   "cell_type": "code",
   "execution_count": null,
   "metadata": {
    "id": "-HvWIp7n2yej"
   },
   "outputs": [],
   "source": [
    "# k_range, inertia, silhouette_scores = find_optimal_k(embeddings)"
   ]
  },
  {
   "cell_type": "code",
   "execution_count": null,
   "metadata": {
    "colab": {
     "base_uri": "https://localhost:8080/",
     "height": 53
    },
    "id": "Df5sECuS21Qv",
    "outputId": "6b7cd925-a84e-49cd-b78f-a9aefcbbb0e8"
   },
   "outputs": [
    {
     "data": {
      "application/vnd.google.colaboratory.intrinsic+json": {
       "type": "string"
      },
      "text/plain": [
       "\"\\n# Visualization of the elbow method\\nplt.figure(figsize=(10, 5))\\nplt.plot(k_range, inertia, marker='o', label='Inertia')\\nplt.xlabel('Number of Clusters (k)')\\nplt.ylabel('Inertia')\\nplt.title('Elbow Method for Optimal k')\\nplt.legend()\\nplt.show()\\n\""
      ]
     },
     "execution_count": 213,
     "metadata": {},
     "output_type": "execute_result"
    }
   ],
   "source": [
    "\"\"\"\n",
    "# Visualization of the elbow method\n",
    "plt.figure(figsize=(10, 5))\n",
    "plt.plot(k_range, inertia, marker='o', label='Inertia')\n",
    "plt.xlabel('Number of Clusters (k)')\n",
    "plt.ylabel('Inertia')\n",
    "plt.title('Elbow Method for Optimal k')\n",
    "plt.legend()\n",
    "plt.show()\n",
    "\"\"\""
   ]
  },
  {
   "cell_type": "code",
   "execution_count": null,
   "metadata": {
    "colab": {
     "base_uri": "https://localhost:8080/",
     "height": 53
    },
    "id": "0gsG_g-e26Lr",
    "outputId": "bcad2057-2394-46ff-b2e7-3a5ea992e045"
   },
   "outputs": [
    {
     "data": {
      "application/vnd.google.colaboratory.intrinsic+json": {
       "type": "string"
      },
      "text/plain": [
       "\"\\n# Display of the silhouette score\\nplt.figure(figsize=(10, 5))\\nplt.plot(k_range, silhouette_scores, marker='o', label='Silhouette Score', color='orange')\\nplt.xlabel('Number of Clusters (k)')\\nplt.ylabel('Silhouette Score')\\nplt.title('Silhouette Analysis for Optimal k')\\nplt.legend()\\nplt.show()\\n\""
      ]
     },
     "execution_count": 214,
     "metadata": {},
     "output_type": "execute_result"
    }
   ],
   "source": [
    "\"\"\"\n",
    "# Display of the silhouette score\n",
    "plt.figure(figsize=(10, 5))\n",
    "plt.plot(k_range, silhouette_scores, marker='o', label='Silhouette Score', color='orange')\n",
    "plt.xlabel('Number of Clusters (k)')\n",
    "plt.ylabel('Silhouette Score')\n",
    "plt.title('Silhouette Analysis for Optimal k')\n",
    "plt.legend()\n",
    "plt.show()\n",
    "\"\"\""
   ]
  },
  {
   "cell_type": "code",
   "execution_count": null,
   "metadata": {
    "id": "iLopUQUN3CrN"
   },
   "outputs": [],
   "source": [
    "# Choose the optimal number of clusters\n",
    "optimal_k = 21 # Half of the possible categories\n",
    "\n",
    "# Create K-Means model with optimal number of clusters\n",
    "kmeans = KMeans(n_clusters=optimal_k, random_state=42)\n",
    "labels = kmeans.fit_predict(embeddings)"
   ]
  },
  {
   "cell_type": "code",
   "execution_count": null,
   "metadata": {
    "colab": {
     "base_uri": "https://localhost:8080/"
    },
    "id": "-Pn1gyI63nsn",
    "outputId": "1f8bbbb9-e6f0-4fec-d6c7-5e558b668617"
   },
   "outputs": [
    {
     "name": "stdout",
     "output_type": "stream",
     "text": [
      "Cluster 15: 8576 documents\n",
      "  - Over 4 Million Americans Roll Up Sleeves For Omicron-Targeted COVID Boosters (Category: U.S. NEWS)\n",
      "  - CDC Director To Overhaul Agency With COVID Shortcomings In Mind (Category: POLITICS)\n",
      "  - General Motors Recalls Over 484,000 Vehicles Over 'Improperly'-Formed Seat Belts (Category: U.S. NEWS)\n",
      "  - Planned Parenthood To Spend Record $50 Million For Midterms (Category: POLITICS)\n",
      "  - Dog Catches Monkeypox In France In First Suspected Human-To-Pet Transmission (Category: U.S. NEWS)\n",
      "\n",
      "Cluster 0: 8723 documents\n",
      "  - American Airlines Flyer Charged, Banned For Life After Punching Flight Attendant On Video (Category: U.S. NEWS)\n",
      "  - Cleaner Was Dead In Belk Bathroom For 4 Days Before Body Found: Police (Category: U.S. NEWS)\n",
      "  - Man Sets Himself On Fire In Apparent Protest Of Funeral For Japan's Abe (Category: WORLD NEWS)\n",
      "  - Russian Cosmonaut Valery Polyakov Who Broke Record With 437-Day Stay In Space Dies At 80 (Category: WORLD NEWS)\n",
      "  - Maury Wills, Base-Stealing Shortstop For Dodgers, Dies At 89 (Category: SPORTS)\n",
      "\n",
      "Cluster 8: 11012 documents\n",
      "  - 23 Of The Funniest Tweets About Cats And Dogs This Week (Sept. 17-23) (Category: COMEDY)\n",
      "  - Wendy's Pulls Lettuce From Sandwiches After Dozens Fall Sick From E. Coli (Category: U.S. NEWS)\n",
      "  - French Scientist Trolls Twitter By Claiming Chorizo Slice Is Actually A Distant Star (Category: WEIRD NEWS)\n",
      "  - I Cooked For The World's 1%, But I Traded It To Make School Lunches (Category: FOOD & DRINK)\n",
      "  - Orange Wine: Everything You Need To Know And Probably Didn't (Category: FOOD & DRINK)\n",
      "\n",
      "Cluster 17: 12014 documents\n",
      "  - The Funniest Tweets From Parents This Week (Sept. 17-23) (Category: PARENTING)\n",
      "  - This Breastfeeding Condition Makes Moms Feel Dread, Disgust And Despair (Category: PARENTING)\n",
      "  - Parents Arrested After Attempting To Grab Their Children During School Lockdown (Category: U.S. NEWS)\n",
      "  - The Problem With The AAP's New Breastfeeding Guidelines (Category: PARENTING)\n",
      "  - Elon Musk Reportedly Had Twins Last Year With One Of His Company Execs (Category: U.S. NEWS)\n",
      "\n",
      "Cluster 12: 8880 documents\n",
      "  - Woman Who Called Cops On Black Bird-Watcher Loses Lawsuit Against Ex-Employer (Category: U.S. NEWS)\n",
      "  - Virginia Thomas Agrees To Interview With Jan. 6 Panel (Category: U.S. NEWS)\n",
      "  - Watchdog Report Finds Some Census Takers Who Fudged 2020 Data Didn’t Get Fired (Category: U.S. NEWS)\n",
      "  - Mark Meadows Complies With Justice Dept. Subpoena: Report (Category: POLITICS)\n",
      "  - Bill Richardson Visits Moscow As Brittney Griner, Paul Whelan Remain Jailed (Category: WORLD NEWS)\n",
      "\n",
      "Cluster 1: 12474 documents\n",
      "  - Reporter Gets Adorable Surprise From Her Boyfriend While Live On TV (Category: U.S. NEWS)\n",
      "  - How A New Documentary Captures The Complexity Of Being A Child Of Immigrants (Category: CULTURE & ARTS)\n",
      "  - Las Vegas Aces Win First WNBA Title, Chelsea Gray Named MVP (Category: SPORTS)\n",
      "  - World Leaders Pay Respects To Queen Elizabeth II (Category: WORLD NEWS)\n",
      "  - Meet Alex Aster, The TikToker Changing The Publishing Industry For The Better (Category: CULTURE & ARTS)\n",
      "\n",
      "Cluster 6: 5536 documents\n",
      "  - Puerto Ricans Desperate For Water After Hurricane Fiona’s Rampage (Category: WORLD NEWS)\n",
      "  - Fiona Threatens To Become Category 4 Storm Headed To Bermuda (Category: WORLD NEWS)\n",
      "  - Fiona Barrels Toward Turks And Caicos Islands As Category 3 Hurricane (Category: WORLD NEWS)\n",
      "  - Hurricane Fiona Bears Down On Dominican Republic After Pounding Puerto Rico (Category: WORLD NEWS)\n",
      "  - First Public Global Database Of Fossil Fuels Launches (Category: ENVIRONMENT)\n",
      "\n",
      "Cluster 4: 8169 documents\n",
      "  - Biden At UN To Call Russian War An Affront To Body's Charter (Category: WORLD NEWS)\n",
      "  - World Cup Captains Want To Wear Rainbow Armbands In Qatar (Category: WORLD NEWS)\n",
      "  - 4 Russian-Controlled Ukrainian Regions Schedule Votes This Week To Join Russia (Category: WORLD NEWS)\n",
      "  - Biden Says U.S. Forces Would Defend Taiwan If China Invaded (Category: POLITICS)\n",
      "  - Biden Honors 9/11 Victims, Vows Commitment To Thwart Terror (Category: POLITICS)\n",
      "\n",
      "Cluster 7: 11332 documents\n",
      "  - Twitch Bans Gambling Sites After Streamer Scams Folks Out Of $200,000 (Category: TECH)\n",
      "  - Possible Nationwide Rail Strike Is Already Impacting Travelers, Businesses (Category: U.S. NEWS)\n",
      "  - TikTok Search Results Riddled With Misinformation: Report (Category: TECH)\n",
      "  - U.S. Inflation Falls For 2nd Straight Month On Lower Gas Costs (Category: U.S. NEWS)\n",
      "  - Thousands Of Minnesota Nurses Launch 3-day Strike Over Pay (Category: U.S. NEWS)\n",
      "\n",
      "Cluster 11: 15753 documents\n",
      "  - 'Reboot' Is A Clever And Not Too Navel-Gazey Look Inside TV Reboots (Category: CULTURE & ARTS)\n",
      "  - Golden Globes Returning To NBC In January After Year Off-Air (Category: ENTERTAINMENT)\n",
      "  - James Cameron Says He 'Clashed' With Studio Before 'Avatar' Release (Category: ENTERTAINMENT)\n",
      "  - Biden Says Queen's Death Left 'Giant Hole' For Royal Family (Category: POLITICS)\n",
      "  - Amazon Greenlights 'Blade Runner 2099' Limited Series Produced By Ridley Scott (Category: ENTERTAINMENT)\n",
      "\n",
      "Cluster 13: 9887 documents\n",
      "  - ‘Beautiful And Sad At The Same Time’: Ukrainian Cultural Festival Takes On A Deeper Meaning This Year (Category: POLITICS)\n",
      "  - Tiger To Meet With Top Players Against LIV Golf (Category: SPORTS)\n",
      "  - Volcano Near Iceland’s Main Airport Erupts Again (Category: WORLD NEWS)\n",
      "  - Ancient Tomb Linked By Legend To King Arthur To Be Excavated For First Time (Category: SCIENCE)\n",
      "  - UK Royals’ Spending Up 17%, Mostly For Palace Overhaul Costs (Category: WORLD NEWS)\n",
      "\n",
      "Cluster 9: 11544 documents\n",
      "  - 'French Spider-Man' Celebrates 60th Birthday With A Massive Skyscraper Climb (Category: WEIRD NEWS)\n",
      "  - German Customs Officials Follow Trail Of Slime And Find Bags Of Giant Snails (Category: WEIRD NEWS)\n",
      "  - A Fisherman Thought He Caught A Rock. He Snagged A Prehistoric Treasure Instead. (Category: WEIRD NEWS)\n",
      "  - Feathers Fly As Wild Turkey Dodges Cops In Slapstick Apartment Chase (Category: WEIRD NEWS)\n",
      "  - Canadian Man Uses Giant Billboard To Get Rid Of Leftover Dairy Product In Fridge (Category: WEIRD NEWS)\n",
      "\n",
      "Cluster 16: 12091 documents\n",
      "  - Bill To Help Afghans Who Escaped Taliban Faces Long Odds In The Senate (Category: POLITICS)\n",
      "  - Democrats Nominate Seth Magaziner In Key Rhode Island House Race (Category: POLITICS)\n",
      "  - Sen. Tim Scott Downplays Electability Concerns Over Struggling Senate GOP Candidates (Category: POLITICS)\n",
      "  - Electability Is On The Ballot In Key Rhode Island House Primary (Category: POLITICS)\n",
      "  - Trump-Endorsed Wisconsin Gubernatorial Candidate Tells Voters To Take Up Pitchforks (Category: POLITICS)\n",
      "\n",
      "Cluster 5: 6520 documents\n",
      "  - Podcasters Offer $100K Reward For Information On 2Pac’s Killers (Category: ENTERTAINMENT)\n",
      "  - Cardi B Donates $100,000 To Her Old Middle School In The Bronx (Category: ENTERTAINMENT)\n",
      "  - Watch Harry Styles Pay Tribute To Queen Elizabeth II At NYC Concert (Category: ENTERTAINMENT)\n",
      "  - Harry Styles Say He Feels Like He Has 'No Idea What I'm Doing' When Acting (Category: ENTERTAINMENT)\n",
      "  - Lisa Loeb Paved Her Own Way In The '90s — A Rare Feat For Independent Artists Of The Time (Category: CULTURE & ARTS)\n",
      "\n",
      "Cluster 20: 8774 documents\n",
      "  - Joe Biden Urges National Unity In Speech On Renewed ‘Cancer Moonshot’ (Category: POLITICS)\n",
      "  - Mississippi Governor Says Water Pressure Is Now 'Solid' In Jackson (Category: U.S. NEWS)\n",
      "  - A Ku Klux Klan Plaque Is Mounted At West Point's Science Center, Commission Finds (Category: U.S. NEWS)\n",
      "  - Teachers In Ohio's Largest School District Go On Strike (Category: POLITICS)\n",
      "  - Minneapolis Teacher Contract Race Language Ignites Firestorm (Category: EDUCATION)\n",
      "\n",
      "Cluster 3: 6496 documents\n",
      "  - Boston Marathon To Make Race More Inclusive For Nonbinary Runners (Category: SPORTS)\n",
      "  - Trans Woman Can't Be Considered Parent Of Her Own Child, Rules Tokyo Court (Category: WORLD NEWS)\n",
      "  - LGBTQ Pride Events Will Have Priority Access To Monkeypox Vaccines, Health Officials Say (Category: U.S. NEWS)\n",
      "  - Spirituality Has A New Face — And It’s Queer As Hell (Category: QUEER VOICES)\n",
      "  - Charles Barkley: 'If You're Gay Or Transgender, I Love You!' (Category: SPORTS)\n",
      "\n",
      "Cluster 2: 14526 documents\n",
      "  - In A Nod To JFK, Joe Biden Pushing 'Moonshot' To Fight Cancer (Category: POLITICS)\n",
      "  - Rep. Jim Jordan's Judiciary Twitter Account Finds 'Threat' In Pic Of Docs At Trump Home (Category: POLITICS)\n",
      "  - Republicans Ignore Trump's Hoarding Of Classified Documents (Category: POLITICS)\n",
      "  - ‘Fox & Friends’ Host Questions Why Trump Kept Classified Documents At Mar-A-Lago (Category: POLITICS)\n",
      "  - Secret Service Official And Ex-Trump Aide Tony Ornato Retires Amid Jan. 6 Probe (Category: POLITICS)\n",
      "\n",
      "Cluster 18: 10130 documents\n",
      "  - Michelle Obama Celebrated For Wearing Braids To Her White House Portrait Unveiling (Category: ENTERTAINMENT)\n",
      "  - 2022 MTV VMAs Red Carpet: All The Wildest Looks You Need To See (Category: ENTERTAINMENT)\n",
      "  - How To Hide Even The Worst Tan Lines, According To Makeup Pros (Category: STYLE & BEAUTY)\n",
      "  - Miley Cyrus Has A Very On-Brand Response To Selena Gomez's 'SNL' Impression (Category: ENTERTAINMENT)\n",
      "  - The Rise Of The BBL: How Getting A Brazilian Butt Lift Impacted These Patients (Category: CULTURE & ARTS)\n",
      "\n",
      "Cluster 14: 7421 documents\n",
      "  - Should You Freeze-Dry Your Breast Milk? (Category: PARENTING)\n",
      "  - 6 Signs You’re Grinding Your Teeth At Night (And What To Do About It) (Category: WELLNESS)\n",
      "  - How To Tell If Your Chest Pain Is A Heart Problem (Category: WELLNESS)\n",
      "  - 4 'Micro-Transitions' In Your Day That May Be Causing You Anxiety (Category: WELLNESS)\n",
      "  - Why You Feel Hungover After An Anxiety Or Panic Attack (Category: WELLNESS)\n",
      "\n",
      "Cluster 10: 12692 documents\n",
      "  - What Is Compassion Fatigue? Here Are The Signs You're Experiencing It. (Category: WELLNESS)\n",
      "  - This Made Me: How Pop Culture Has Shaped Our Lives (Category: CULTURE & ARTS)\n",
      "  - 22 Tiny Mental Health Habits That Can Improve Your Life In 2022 (Category: WELLNESS)\n",
      "  - Are You Self-Gaslighting? Here's How To Spot The Destructive Behavior. (Category: WELLNESS)\n",
      "  - The Best Happiness Advice People Learned In Therapy (Category: WELLNESS)\n",
      "\n",
      "Cluster 19: 6977 documents\n",
      "  - Kellyanne Conway Finally Admits Marriage With George Conway Is On The Rocks (Category: POLITICS)\n",
      "  - Man Pops The Question After Engagement Ring Survives Car Fire (Category: WEIRD NEWS)\n",
      "  - Donald Trump Says Prince Harry Is 'Whipped' In Marriage To Meghan Markle (Category: POLITICS)\n",
      "  - Engaged Hockey Star And Bobsledder Reunite At Winter Olympics — After 3 Months Apart (Category: SPORTS)\n",
      "  - Adam Rippon Married Jussi-Pekka Kajaala In Secret New Year's Eve Ceremony (Category: ENTERTAINMENT)\n",
      "\n"
     ]
    }
   ],
   "source": [
    "# Associate each item with its cluster\n",
    "clustered_documents = {}\n",
    "for idx, label in enumerate(labels):\n",
    "    if label not in clustered_documents:\n",
    "        clustered_documents[label] = []\n",
    "    clustered_documents[label].append(metadata[idx])\n",
    "\n",
    "# Show document distribution by cluster\n",
    "for cluster_id, docs in clustered_documents.items():\n",
    "    print(f\"Cluster {cluster_id}: {len(docs)} documents\")\n",
    "    for doc in docs[:5]:\n",
    "        print(f\"  - {doc['headline']} (Category: {doc['category']})\")\n",
    "    print()"
   ]
  },
  {
   "cell_type": "markdown",
   "metadata": {
    "id": "pJmFvtq35C6e"
   },
   "source": [
    "###  Naming and Explaining Clusters"
   ]
  },
  {
   "cell_type": "code",
   "execution_count": null,
   "metadata": {
    "id": "QW-vAlUY7VLU"
   },
   "outputs": [],
   "source": [
    "# Initialize the LLM model with higher temperature\n",
    "llm_mistralai_2 = ChatMistralAI(\n",
    "    model=\"open-mistral-nemo\",\n",
    "    temperature=0.5,\n",
    "    #max_tokens=500\n",
    "    )"
   ]
  },
  {
   "cell_type": "code",
   "execution_count": null,
   "metadata": {
    "id": "wMe590dq5EEk"
   },
   "outputs": [],
   "source": [
    "# Define prompt for naming and explaining clusters\n",
    "prompt_template_2 = \"\"\"\n",
    "You are an expert in summarizing and analyzing content clusters.\n",
    "For each group of documents, you will:\n",
    "1. Provide a **name** that summarizes the main theme of the group.\n",
    "2. Provide a **short explanation** (2-3 sentences) describing the common traits or topics covered in the documents.\n",
    "\n",
    "Here is an example cluster of documents:\n",
    "{examples}\n",
    "\n",
    "Respond in this format:\n",
    "Cluster Name: <Name>\n",
    "Explanation: <Explanation>\n",
    "\"\"\""
   ]
  },
  {
   "cell_type": "code",
   "execution_count": null,
   "metadata": {
    "id": "AioqwyJR61uQ"
   },
   "outputs": [],
   "source": [
    "prompt_2 = ChatPromptTemplate.from_template(prompt_template_2)"
   ]
  },
  {
   "cell_type": "code",
   "execution_count": null,
   "metadata": {
    "id": "Ja44irPJ7KI0"
   },
   "outputs": [],
   "source": [
    "# Create the pipeline using RunnableSequence\n",
    "pipeline = prompt_2 | llm_mistralai_2 | StrOutputParser()"
   ]
  },
  {
   "cell_type": "code",
   "execution_count": null,
   "metadata": {
    "id": "MZT1hEIf7n8p"
   },
   "outputs": [],
   "source": [
    "TIME_BETWEEN_REQUESTS = 2\n",
    "\n",
    "# Function for generating cluster names and explanations\n",
    "def generate_cluster_descriptions(clustered_documents, num_examples=5, delay=TIME_BETWEEN_REQUESTS):\n",
    "    \"\"\"\n",
    "    Generates cluster names and explanations using an LLM.\n",
    "\n",
    "    Args:\n",
    "        clustered_documents (dict): Dictionary with cluster IDs as keys and lists of document metadata as values.\n",
    "        num_examples (int): Number of examples from each cluster to pass to the LLM.\n",
    "\n",
    "    Returns:\n",
    "        dict: A dictionary with cluster IDs as keys and cluster descriptions as values.\n",
    "    \"\"\"\n",
    "    cluster_descriptions = {}\n",
    "    for cluster_id, docs in clustered_documents.items():\n",
    "        # Create a sample of representative examples of the cluster\n",
    "        examples = \"\\n\".join(\n",
    "            [f\"- {doc['headline']} (Category: {doc['category']})\" for doc in docs[:num_examples]]\n",
    "        )\n",
    "\n",
    "        try:\n",
    "            # Generate cluster name and explanation\n",
    "            response = pipeline.invoke({\"examples\": examples})\n",
    "            cluster_descriptions[cluster_id] = response\n",
    "\n",
    "            print(f\"Processed Cluster {cluster_id}:\\n{response}\\n\")\n",
    "\n",
    "        except Exception as e:\n",
    "            print(f\"Error processing Cluster {cluster_id}: {e}\")\n",
    "            cluster_descriptions[cluster_id] = f\"Error: {e}\"\n",
    "\n",
    "        # Wait\n",
    "        time.sleep(delay)\n",
    "\n",
    "    return cluster_descriptions"
   ]
  },
  {
   "cell_type": "code",
   "execution_count": null,
   "metadata": {
    "colab": {
     "base_uri": "https://localhost:8080/"
    },
    "id": "mWMcb9AW7n7W",
    "outputId": "c7fbbc8e-033a-4336-f130-433cfed41d7d"
   },
   "outputs": [
    {
     "name": "stdout",
     "output_type": "stream",
     "text": [
      "Processed Cluster 15:\n",
      "Cluster Name: **COVID-19 Vaccine and Public Health Measures**\n",
      "Explanation: This cluster revolves around the ongoing COVID-19 pandemic, focusing on the rollout of Omicron-targeted boosters, the CDC's plans to overhaul its structure based on COVID-19 shortcomings, and the first suspected human-to-pet transmission of monkeypox.\n",
      "\n",
      "Processed Cluster 0:\n",
      "**Cluster Name:** Violent Acts, Unusual Deaths, and Celebrity Passings\n",
      "**Explanation:** This cluster of documents shares common themes of violent incidents, unusual deaths, and the passing of notable figures. The first two articles report on violent acts against flight attendants and cleaners, while the third article describes an unusual form of protest. The last two articles detail the deaths of notable figures in the world of space exploration and sports.\n",
      "\n",
      "Processed Cluster 8:\n",
      "**Cluster Name:** Humor, Food, and Bizarre News\n",
      "\n",
      "**Explanation:** This cluster revolves around a mix of light-hearted and peculiar content. It includes a collection of humorous tweets about pets (cats and dogs), a bizarre claim about a food item (chorizo slice as a distant star), and two articles related to food and drink, one being a personal story about cooking for the elite and the other an informative piece about orange wine.\n",
      "\n",
      "Processed Cluster 17:\n",
      "**Cluster Name:** Parenting Challenges and News\n",
      "**Explanation:** This cluster revolves around various aspects of parenting, including humorous tweets, breastfeeding struggles, and recent news involving parents.\n",
      "\n",
      "Processed Cluster 12:\n",
      "**Cluster Name:** Legal and Political Accountability\n",
      "**Explanation:** This cluster revolves around legal and political consequences, including a lawsuit, a congressional interview, a watchdog report on misconduct, compliance with a subpoena, and diplomatic efforts to address ongoing international issues.\n",
      "\n",
      "Processed Cluster 1:\n",
      "**Cluster Name:** Celebrity, Sports, and Royalty in the Spotlight\n",
      "**Explanation:** This cluster revolves around prominent figures and events in the public eye, including a surprise proposal on live TV, a WNBA championship win, tributes to a late monarch, and a social media influencer making waves in publishing.\n",
      "\n",
      "Processed Cluster 6:\n",
      "**Cluster Name:** Hurricane Fiona's Impact and Global Fossil Fuel Database Launch\n",
      "**Explanation:** This cluster revolves around the devastating effects of Hurricane Fiona, which has caused water shortages and destruction in Puerto Rico, and is threatening other Caribbean islands like Bermuda and the Turks and Caicos Islands. Additionally, the cluster includes news about the first public global database of fossil fuels being launched.\n",
      "\n",
      "Processed Cluster 4:\n",
      "**Cluster Name:** Global Tensions and Political Stance\n",
      "**Explanation:** This cluster revolves around international relations and political stances, with a focus on the U.S.'s position in global conflicts and human rights issues. It includes reactions to Russia's actions in Ukraine, the U.S.'s commitment to defending Taiwan, and the U.S.'s stance on human rights at the World Cup in Qatar.\n",
      "\n",
      "Processed Cluster 7:\n",
      "**Cluster Name:** Tech Platforms & U.S. Labor Strikes\n",
      "**Explanation:** This cluster revolves around the impact of tech platforms on society and recent labor actions in the U.S. It includes a tech news story about Twitch banning gambling sites due to a streamer's scam, a report on misinformation on TikTok, and two U.S. news articles about ongoing labor strikes in the transportation and healthcare sectors.\n",
      "\n",
      "Processed Cluster 11:\n",
      "**Cluster Name:** Hollywood and Politics: Reboots, Returns, and Royal Tributes\n",
      "**Explanation:** This cluster revolves around the entertainment industry and politics, focusing on reboots and returns, such as TV show revivals and award show comebacks, as well as notable figures' opinions on current events, like the passing of Queen Elizabeth II.\n",
      "\n",
      "Processed Cluster 13:\n",
      "**Cluster Name:** Global Events and Royal Affairs\n",
      "**Explanation:** This cluster revolves around significant happenings worldwide, including a volcanic eruption in Iceland, a royal spending increase in the UK, and an archaeological discovery linked to King Arthur. It also covers international politics, with a Ukrainian cultural festival taking on a deeper political meaning, and global sports, with the Tiger Woods' meeting with top players amidst the LIV Golf controversy.\n",
      "\n",
      "Processed Cluster 9:\n",
      "**Cluster Name:** Unlikely Heroes and Strange Encounters\n",
      "**Explanation:** This cluster of documents shares stories of unusual events and unexpected protagonists, ranging from a superhero-themed birthday celebration to a wild turkey evading police, and even a prehistoric discovery in the most mundane of places.\n",
      "\n",
      "Processed Cluster 16:\n",
      "**Cluster Name:** Political Dynamics and Elections\n",
      "**Explanation:** This cluster revolves around political dynamics and elections, focusing on the U.S. Senate and House races. It covers electability concerns, endorsements, and the struggle of Republican candidates, with a mention of a controversial statement by a Trump-endorsed candidate.\n",
      "\n",
      "Processed Cluster 5:\n",
      "**Cluster Name:** Celebrity News and Achievements\n",
      "**Explanation:** This cluster revolves around recent events and actions of celebrities, including a reward offer for information on a historical case, charitable donations, tribute performances, and reflections on personal growth and industry trends.\n",
      "\n",
      "Processed Cluster 20:\n",
      "**Cluster Name:** Political and Social unrest in the U.S.\n",
      "\n",
      "**Explanation:** This cluster of documents covers various aspects of political and social unrest in the U.S., including national unity and political initiatives (Joe Biden's speech on the renewed 'Cancer Moonshot'), infrastructure and public service issues (water pressure in Jackson, Mississippi), racial tensions and discrimination (Ku Klux Klan plaque at West Point), labor disputes (teachers' strike in Ohio), and controversial policies in education (Minneapolis teacher contract race language).\n",
      "\n",
      "Processed Cluster 3:\n",
      "**Cluster Name:** Queer Inclusion and Visibility\n",
      "\n",
      "**Explanation:** This cluster of documents revolves around the themes of LGBTQ+ inclusion, visibility, and rights. They discuss the integration of nonbinary runners in sports, a Tokyo court ruling regarding the parental rights of a trans woman, priority access to monkeypox vaccines for LGBTQ+ individuals, the evolution of spirituality within the queer community, and a prominent sports figure expressing support for the LGBTQ+ community.\n",
      "\n",
      "Processed Cluster 2:\n",
      "**Cluster Name:** Trump's Handling of Classified Documents and Biden's Cancer Initiative\n",
      "\n",
      "**Explanation:** This cluster of documents revolves around two main political themes: the controversy surrounding former President Trump's mishandling of classified documents at his Mar-a-Lago estate, as seen in the articles discussing Republicans' response to the issue and the involvement of the Secret Service, and President Biden's initiative to combat cancer, inspired by the late President Kennedy's \"moonshot\" project.\n",
      "\n",
      "Processed Cluster 18:\n",
      "**Cluster Name:** Celebrity Fashion, Beauty, and Body Trends\n",
      "**Explanation:** This cluster revolves around celebrity fashion and beauty trends, including Michelle Obama's hairstyle at a public event, the red carpet looks at the MTV VMAs, and Miley Cyrus' response to a celebrity impression. Additionally, it explores the impact of cosmetic procedures like Brazilian Butt Lifts on patients, tying in the cultural aspect of beauty standards.\n",
      "\n",
      "Processed Cluster 14:\n",
      "**Cluster Name:** Health and Wellness Concerns\n",
      "**Explanation:** This cluster focuses on various aspects of personal health and wellness, including dental health (teeth grinding), cardiovascular health (chest pain), mental health (anxiety, panic attacks), and their respective symptoms and remedies.\n",
      "\n",
      "Processed Cluster 10:\n",
      "**Cluster Name:** Mental Health and Wellness in Daily Life\n",
      "**Explanation:** This cluster focuses on various aspects of mental health and wellness, including recognizing and managing compassion fatigue, identifying and addressing self-gaslighting behaviors, and adopting tiny mental health habits and happiness advice from therapy to improve daily life.\n",
      "\n",
      "Error processing Cluster 19: Error response 429 while fetching https://api.mistral.ai/v1/chat/completions: {\"message\":\"Requests rate limit exceeded\"}\n",
      "Cluster 15:\n",
      "Cluster Name: **COVID-19 Vaccine and Public Health Measures**\n",
      "Explanation: This cluster revolves around the ongoing COVID-19 pandemic, focusing on the rollout of Omicron-targeted boosters, the CDC's plans to overhaul its structure based on COVID-19 shortcomings, and the first suspected human-to-pet transmission of monkeypox.\n",
      "\n",
      "Cluster 0:\n",
      "**Cluster Name:** Violent Acts, Unusual Deaths, and Celebrity Passings\n",
      "**Explanation:** This cluster of documents shares common themes of violent incidents, unusual deaths, and the passing of notable figures. The first two articles report on violent acts against flight attendants and cleaners, while the third article describes an unusual form of protest. The last two articles detail the deaths of notable figures in the world of space exploration and sports.\n",
      "\n",
      "Cluster 8:\n",
      "**Cluster Name:** Humor, Food, and Bizarre News\n",
      "\n",
      "**Explanation:** This cluster revolves around a mix of light-hearted and peculiar content. It includes a collection of humorous tweets about pets (cats and dogs), a bizarre claim about a food item (chorizo slice as a distant star), and two articles related to food and drink, one being a personal story about cooking for the elite and the other an informative piece about orange wine.\n",
      "\n",
      "Cluster 17:\n",
      "**Cluster Name:** Parenting Challenges and News\n",
      "**Explanation:** This cluster revolves around various aspects of parenting, including humorous tweets, breastfeeding struggles, and recent news involving parents.\n",
      "\n",
      "Cluster 12:\n",
      "**Cluster Name:** Legal and Political Accountability\n",
      "**Explanation:** This cluster revolves around legal and political consequences, including a lawsuit, a congressional interview, a watchdog report on misconduct, compliance with a subpoena, and diplomatic efforts to address ongoing international issues.\n",
      "\n",
      "Cluster 1:\n",
      "**Cluster Name:** Celebrity, Sports, and Royalty in the Spotlight\n",
      "**Explanation:** This cluster revolves around prominent figures and events in the public eye, including a surprise proposal on live TV, a WNBA championship win, tributes to a late monarch, and a social media influencer making waves in publishing.\n",
      "\n",
      "Cluster 6:\n",
      "**Cluster Name:** Hurricane Fiona's Impact and Global Fossil Fuel Database Launch\n",
      "**Explanation:** This cluster revolves around the devastating effects of Hurricane Fiona, which has caused water shortages and destruction in Puerto Rico, and is threatening other Caribbean islands like Bermuda and the Turks and Caicos Islands. Additionally, the cluster includes news about the first public global database of fossil fuels being launched.\n",
      "\n",
      "Cluster 4:\n",
      "**Cluster Name:** Global Tensions and Political Stance\n",
      "**Explanation:** This cluster revolves around international relations and political stances, with a focus on the U.S.'s position in global conflicts and human rights issues. It includes reactions to Russia's actions in Ukraine, the U.S.'s commitment to defending Taiwan, and the U.S.'s stance on human rights at the World Cup in Qatar.\n",
      "\n",
      "Cluster 7:\n",
      "**Cluster Name:** Tech Platforms & U.S. Labor Strikes\n",
      "**Explanation:** This cluster revolves around the impact of tech platforms on society and recent labor actions in the U.S. It includes a tech news story about Twitch banning gambling sites due to a streamer's scam, a report on misinformation on TikTok, and two U.S. news articles about ongoing labor strikes in the transportation and healthcare sectors.\n",
      "\n",
      "Cluster 11:\n",
      "**Cluster Name:** Hollywood and Politics: Reboots, Returns, and Royal Tributes\n",
      "**Explanation:** This cluster revolves around the entertainment industry and politics, focusing on reboots and returns, such as TV show revivals and award show comebacks, as well as notable figures' opinions on current events, like the passing of Queen Elizabeth II.\n",
      "\n",
      "Cluster 13:\n",
      "**Cluster Name:** Global Events and Royal Affairs\n",
      "**Explanation:** This cluster revolves around significant happenings worldwide, including a volcanic eruption in Iceland, a royal spending increase in the UK, and an archaeological discovery linked to King Arthur. It also covers international politics, with a Ukrainian cultural festival taking on a deeper political meaning, and global sports, with the Tiger Woods' meeting with top players amidst the LIV Golf controversy.\n",
      "\n",
      "Cluster 9:\n",
      "**Cluster Name:** Unlikely Heroes and Strange Encounters\n",
      "**Explanation:** This cluster of documents shares stories of unusual events and unexpected protagonists, ranging from a superhero-themed birthday celebration to a wild turkey evading police, and even a prehistoric discovery in the most mundane of places.\n",
      "\n",
      "Cluster 16:\n",
      "**Cluster Name:** Political Dynamics and Elections\n",
      "**Explanation:** This cluster revolves around political dynamics and elections, focusing on the U.S. Senate and House races. It covers electability concerns, endorsements, and the struggle of Republican candidates, with a mention of a controversial statement by a Trump-endorsed candidate.\n",
      "\n",
      "Cluster 5:\n",
      "**Cluster Name:** Celebrity News and Achievements\n",
      "**Explanation:** This cluster revolves around recent events and actions of celebrities, including a reward offer for information on a historical case, charitable donations, tribute performances, and reflections on personal growth and industry trends.\n",
      "\n",
      "Cluster 20:\n",
      "**Cluster Name:** Political and Social unrest in the U.S.\n",
      "\n",
      "**Explanation:** This cluster of documents covers various aspects of political and social unrest in the U.S., including national unity and political initiatives (Joe Biden's speech on the renewed 'Cancer Moonshot'), infrastructure and public service issues (water pressure in Jackson, Mississippi), racial tensions and discrimination (Ku Klux Klan plaque at West Point), labor disputes (teachers' strike in Ohio), and controversial policies in education (Minneapolis teacher contract race language).\n",
      "\n",
      "Cluster 3:\n",
      "**Cluster Name:** Queer Inclusion and Visibility\n",
      "\n",
      "**Explanation:** This cluster of documents revolves around the themes of LGBTQ+ inclusion, visibility, and rights. They discuss the integration of nonbinary runners in sports, a Tokyo court ruling regarding the parental rights of a trans woman, priority access to monkeypox vaccines for LGBTQ+ individuals, the evolution of spirituality within the queer community, and a prominent sports figure expressing support for the LGBTQ+ community.\n",
      "\n",
      "Cluster 2:\n",
      "**Cluster Name:** Trump's Handling of Classified Documents and Biden's Cancer Initiative\n",
      "\n",
      "**Explanation:** This cluster of documents revolves around two main political themes: the controversy surrounding former President Trump's mishandling of classified documents at his Mar-a-Lago estate, as seen in the articles discussing Republicans' response to the issue and the involvement of the Secret Service, and President Biden's initiative to combat cancer, inspired by the late President Kennedy's \"moonshot\" project.\n",
      "\n",
      "Cluster 18:\n",
      "**Cluster Name:** Celebrity Fashion, Beauty, and Body Trends\n",
      "**Explanation:** This cluster revolves around celebrity fashion and beauty trends, including Michelle Obama's hairstyle at a public event, the red carpet looks at the MTV VMAs, and Miley Cyrus' response to a celebrity impression. Additionally, it explores the impact of cosmetic procedures like Brazilian Butt Lifts on patients, tying in the cultural aspect of beauty standards.\n",
      "\n",
      "Cluster 14:\n",
      "**Cluster Name:** Health and Wellness Concerns\n",
      "**Explanation:** This cluster focuses on various aspects of personal health and wellness, including dental health (teeth grinding), cardiovascular health (chest pain), mental health (anxiety, panic attacks), and their respective symptoms and remedies.\n",
      "\n",
      "Cluster 10:\n",
      "**Cluster Name:** Mental Health and Wellness in Daily Life\n",
      "**Explanation:** This cluster focuses on various aspects of mental health and wellness, including recognizing and managing compassion fatigue, identifying and addressing self-gaslighting behaviors, and adopting tiny mental health habits and happiness advice from therapy to improve daily life.\n",
      "\n",
      "Cluster 19:\n",
      "Error: Error response 429 while fetching https://api.mistral.ai/v1/chat/completions: {\"message\":\"Requests rate limit exceeded\"}\n",
      "\n"
     ]
    }
   ],
   "source": [
    "# Clusters description\n",
    "cluster_descriptions = generate_cluster_descriptions(clustered_documents)\n",
    "\n",
    "for cluster_id, description in cluster_descriptions.items():\n",
    "    print(f\"Cluster {cluster_id}:\\n{description}\\n\")"
   ]
  },
  {
   "cell_type": "markdown",
   "metadata": {
    "id": "nAQsJEOTDHhD"
   },
   "source": [
    "## 4.8. Expansion Opportunities - Tagging"
   ]
  },
  {
   "cell_type": "code",
   "execution_count": null,
   "metadata": {
    "id": "_PTndPQ4Df7e"
   },
   "outputs": [],
   "source": [
    "# Define the classification model\n",
    "class ArticleClassification(BaseModel):\n",
    "    sentiment: str = Field(description=\"The sentiment of the text (positive, neutral, negative)\")\n",
    "    language: str = Field(description=\"The language the text is written in (e.g., English, Spanish)\")\n",
    "    style: str = Field(description=\"The style of the text (e.g., formal, informal)\")\n",
    "    topics: str = Field(description=\"The main topics covered in the text (comma-separated)\")\n",
    "    political_tendency: str = Field(\n",
    "        description=\"The political tendency of the text (e.g., left-wing, right-wing, centrist, unknown)\"\n",
    "    )"
   ]
  },
  {
   "cell_type": "code",
   "execution_count": null,
   "metadata": {
    "id": "gDBL2wRlElHc"
   },
   "outputs": [],
   "source": [
    "# Create LLM model with structured output\n",
    "llm_mistralai_3 = ChatMistralAI(\n",
    "    model=\"open-mistral-nemo\",\n",
    "    temperature=0,\n",
    "    #max_tokens=500\n",
    "    ).with_structured_output(ArticleClassification)"
   ]
  },
  {
   "cell_type": "code",
   "execution_count": null,
   "metadata": {
    "id": "gnq5_GjBE7vR"
   },
   "outputs": [],
   "source": [
    "# Define the prompt for labeling text\n",
    "tagging_prompt = ChatPromptTemplate.from_template(\n",
    "    \"\"\"\n",
    "Extract the desired information from the following article.\n",
    "\n",
    "Only extract the properties mentioned in the 'ArticleClassification' schema.\n",
    "\n",
    "Article:\n",
    "{input}\n",
    "\"\"\"\n",
    ")"
   ]
  },
  {
   "cell_type": "code",
   "execution_count": null,
   "metadata": {
    "id": "TeJHJ6oaFBes"
   },
   "outputs": [],
   "source": [
    "# Create the labeling pipeline\n",
    "tagging_chain = tagging_prompt | llm_mistralai_3"
   ]
  },
  {
   "cell_type": "code",
   "execution_count": null,
   "metadata": {
    "id": "TT08z_TqFQ-v"
   },
   "outputs": [],
   "source": [
    "# Article labeling function\n",
    "\n",
    "TIME_BETWEEN_REQUESTS = 2\n",
    "\n",
    "def classify_selected_articles(retriever, query=None, category=None, num_articles=5, delay=TIME_BETWEEN_REQUESTS):\n",
    "    \"\"\"\n",
    "    Retrieves and classifies articles from the dataset based on query or category.\n",
    "\n",
    "    Args:\n",
    "        retriever: The VectorStoreRetriever object.\n",
    "        query (str, optional): A query string to search for relevant documents.\n",
    "        category (str, optional): Filter by category.\n",
    "        num_articles (int, optional): Number of articles to retrieve and classify. Defaults to 5.\n",
    "\n",
    "    Returns:\n",
    "        list of dict: List of classifications for each article.\n",
    "    \"\"\"\n",
    "    # Retrieve articles\n",
    "    search_kwargs = {\"k\": num_articles}\n",
    "    if category:\n",
    "        search_kwargs[\"filter\"] = {\"category\": category}\n",
    "\n",
    "    # Query documents\n",
    "    if query:\n",
    "        results = retriever.get_relevant_documents(query, **search_kwargs)\n",
    "    else:\n",
    "        results = retriever.get_relevant_documents(\"\", **search_kwargs)  # Empty query for category-only filter\n",
    "\n",
    "    # Classify retrieved documents\n",
    "    classifications = []\n",
    "    for idx, doc in enumerate(results):\n",
    "        try:\n",
    "            print(f\"Classifying Article {idx + 1}: {doc.metadata['headline']}\")\n",
    "            result = tagging_chain.invoke({\"input\": doc.page_content})\n",
    "            classifications.append({\"metadata\": doc.metadata, \"classification\": result.dict()})\n",
    "        except Exception as e:\n",
    "            print(f\"Error classifying article {idx + 1}: {e}\")\n",
    "            classifications.append({\"metadata\": doc.metadata, \"classification\": None})\n",
    "\n",
    "        # Wait\n",
    "        time.sleep(delay)\n",
    "\n",
    "    return classifications"
   ]
  },
  {
   "cell_type": "code",
   "execution_count": null,
   "metadata": {
    "colab": {
     "base_uri": "https://localhost:8080/"
    },
    "id": "-rNMZNptJlkY",
    "outputId": "21f9e66f-8666-4cc4-b2e1-083b484db13b"
   },
   "outputs": [
    {
     "name": "stdout",
     "output_type": "stream",
     "text": [
      "Classifying Article 1: HUFFPOLLSTER: Republicans And Democrats Are Growing Even Further Apart\n",
      "Classifying Article 2: See The Latest Updates On Elections From Around The Nation\n",
      "Error classifying article 2: Error response 429 while fetching https://api.mistral.ai/v1/chat/completions: {\"message\":\"Requests rate limit exceeded\"}\n",
      "Classifying Article 3: Top 10 Tech Trends Transforming Humanity\n",
      "Error classifying article 3: Error response 429 while fetching https://api.mistral.ai/v1/chat/completions: {\"message\":\"Requests rate limit exceeded\"}\n",
      "Classifying Article 4: Congress Sets Politics Aside for Critical Development and Humanitarian Issues\n",
      "Classifying Article 5: Leadership and Transparency 2015: The Social Media Imperative\n",
      "Error classifying article 5: Error response 429 while fetching https://api.mistral.ai/v1/chat/completions: {\"message\":\"Requests rate limit exceeded\"}\n",
      "Classifying Article 6: Five Emerging Trends for the U.S. Elections\n",
      "Error classifying article 6: Error response 429 while fetching https://api.mistral.ai/v1/chat/completions: {\"message\":\"Requests rate limit exceeded\"}\n",
      "Classifying Article 7: The Future of Elections\n",
      "Classifying Article 8: Changing The Political Climate\n",
      "Error classifying article 8: Error response 429 while fetching https://api.mistral.ai/v1/chat/completions: {\"message\":\"Requests rate limit exceeded\"}\n",
      "Classifying Article 9: 2018: Moving Beyond Trump — Rebuilding Our Civilizations From Source\n",
      "Classifying Article 10: Data: The Next Political Casualty?\n",
      "\n",
      "Classification Results:\n",
      "Article 1 Metadata: {'id': '56761', 'category': 'POLITICS', 'date': '2016-09-13', 'headline': 'HUFFPOLLSTER: Republicans And Democrats Are Growing Even Further Apart'}\n",
      "Classification: {'sentiment': 'neutral', 'language': 'English', 'style': 'formal', 'topics': 'politics, demographics', 'political_tendency': 'unknown'}\n",
      "\n",
      "Article 2 Metadata: {'id': '116223', 'category': 'POLITICS', 'date': '2014-11-04', 'headline': 'See The Latest Updates On Elections From Around The Nation'}\n",
      "Classification: None\n",
      "\n",
      "Article 3 Metadata: {'id': '47046', 'category': 'TECH', 'date': '2017-01-02', 'headline': 'Top 10 Tech Trends Transforming Humanity'}\n",
      "Classification: None\n",
      "\n",
      "Article 4 Metadata: {'id': '111662', 'category': 'IMPACT', 'date': '2014-12-27', 'headline': 'Congress Sets Politics Aside for Critical Development and Humanitarian Issues'}\n",
      "Classification: {'sentiment': 'neutral', 'language': 'English', 'style': 'formal', 'topics': 'humanitarian crises, mid-term congressional elections', 'political_tendency': 'centrist'}\n",
      "\n",
      "Article 5 Metadata: {'id': '110834', 'category': 'BUSINESS', 'date': '2015-01-05', 'headline': 'Leadership and Transparency 2015: The Social Media Imperative'}\n",
      "Classification: None\n",
      "\n",
      "Article 6 Metadata: {'id': '76589', 'category': 'POLITICS', 'date': '2016-01-31', 'headline': 'Five Emerging Trends for the U.S. Elections'}\n",
      "Classification: None\n",
      "\n",
      "Article 7 Metadata: {'id': '101009', 'category': 'POLITICS', 'date': '2015-04-29', 'headline': 'The Future of Elections'}\n",
      "Classification: {'sentiment': 'positive', 'language': 'English', 'style': 'formal', 'topics': 'elections, governance, innovation', 'political_tendency': 'centrist'}\n",
      "\n",
      "Article 8 Metadata: {'id': '38630', 'category': 'POLITICS', 'date': '2017-04-07', 'headline': 'Changing The Political Climate'}\n",
      "Classification: None\n",
      "\n",
      "Article 9 Metadata: {'id': '17298', 'category': 'IMPACT', 'date': '2017-12-30', 'headline': '2018: Moving Beyond Trump — Rebuilding Our Civilizations From Source'}\n",
      "Classification: {'sentiment': 'neutral', 'language': 'English', 'style': 'formal', 'topics': 'politics, analysis', 'political_tendency': 'centrist'}\n",
      "\n",
      "Article 10 Metadata: {'id': '47448', 'category': 'POLITICS', 'date': '2016-12-28', 'headline': 'Data: The Next Political Casualty?'}\n",
      "Classification: {'sentiment': 'neutral', 'language': 'English', 'style': 'formal', 'topics': 'public release of data, U.S. government, governments at all levels', 'political_tendency': 'unknown'}\n",
      "\n"
     ]
    }
   ],
   "source": [
    "# Example of use: Sort articles related to politics\n",
    "\n",
    "query = \"What are the latest political developments?\"\n",
    "results = classify_selected_articles(retriever, query=query, num_articles=10)\n",
    "\n",
    "print(\"\\nClassification Results:\")\n",
    "for idx, result in enumerate(results):\n",
    "    print(f\"Article {idx + 1} Metadata: {result['metadata']}\")\n",
    "    print(f\"Classification: {result['classification']}\\n\")"
   ]
  },
  {
   "cell_type": "markdown",
   "metadata": {
    "id": "OhTrvouGDjGQ"
   },
   "source": [
    "# 5. Evaluation"
   ]
  },
  {
   "cell_type": "markdown",
   "metadata": {
    "id": "UAVeB4_AG-eN"
   },
   "source": [
    "## 5.1. Information Retrival System"
   ]
  },
  {
   "cell_type": "code",
   "execution_count": null,
   "metadata": {
    "id": "aCcehV7t5m_k"
   },
   "outputs": [],
   "source": [
    "def evaluate_retrieval(retriever, query, ground_truth_category, k=5):\n",
    "    \"\"\"\n",
    "    Evaluates document retrieval based on precision and recall.\n",
    "\n",
    "    Args:\n",
    "        retriever: The document retrieval model.\n",
    "        query (str): The search query.\n",
    "        ground_truth_category (str or list): Category considered as relevant.\n",
    "        k (int): Number of retrieved documents to evaluate.\n",
    "\n",
    "    returns:\n",
    "        dict: Evaluation metrics (precision@k, recall@k, mrr).\n",
    "    \"\"\"\n",
    "    # Retrieve relevant documents\n",
    "    retrieved_docs = retriever.get_relevant_documents(query)[:k]\n",
    "\n",
    "    # Determine whether the retrieved documents are relevant\n",
    "    relevant_flags = [\n",
    "        #1 if doc.metadata[\"category\"] in ground_truth_category else 0\n",
    "        1 if doc.metadata[\"category\"] == ground_truth_category else 0\n",
    "        for doc in retrieved_docs\n",
    "    ]\n",
    "\n",
    "    # Precision@K\n",
    "    precision_at_k = sum(relevant_flags) / k\n",
    "\n",
    "    # Recall@K\n",
    "    total_relevant = sum(\n",
    "        1 for doc in retriever.vectorstore.docstore._dict.values()\n",
    "        #if doc.metadata[\"category\"] in ground_truth_category\n",
    "        if doc.metadata[\"category\"] == ground_truth_category\n",
    "    )\n",
    "    recall_at_k = sum(relevant_flags) / total_relevant if total_relevant > 0 else 0\n",
    "    print(total_relevant)\n",
    "\n",
    "    # MRR\n",
    "    mrr = 0\n",
    "    for rank, flag in enumerate(relevant_flags, start=1):\n",
    "        if flag:\n",
    "            mrr = 1 / rank\n",
    "            break\n",
    "\n",
    "    return {\n",
    "        \"precision_at_k\": precision_at_k,\n",
    "        \"recall_at_k\": recall_at_k,\n",
    "        \"mrr\": mrr,\n",
    "    }"
   ]
  },
  {
   "cell_type": "markdown",
   "metadata": {
    "id": "EIx9e8YAHdgv"
   },
   "source": [
    "The label \"category\" will be used as relevance approximation."
   ]
  },
  {
   "cell_type": "markdown",
   "metadata": {
    "id": "sb-hETZ0OaNh"
   },
   "source": [
    "6340 articles of FOOD & DRINK"
   ]
  },
  {
   "cell_type": "code",
   "execution_count": null,
   "metadata": {
    "id": "7ClLOGNMNRCE"
   },
   "outputs": [],
   "source": [
    "# Create the object Document Retriver (VectorStoreRetriever instance)\n",
    "retriever_eval = vectorstore.as_retriever(\n",
    "    search_type=\"similarity\",\n",
    "    search_kwargs={\n",
    "        \"k\": 6340,\n",
    "        #\"filter\": {\"category\": \"politics\"}  # Ejemplo: filtrar por categoría\n",
    "    }\n",
    ")"
   ]
  },
  {
   "cell_type": "code",
   "execution_count": null,
   "metadata": {
    "id": "rMdmWi4CNqNZ"
   },
   "outputs": [],
   "source": [
    "# Create the retrieval chain that retrieves documents and then passes them on.\n",
    "rag_chain_eval = create_retrieval_chain(retriever_eval, question_answer_chain)"
   ]
  },
  {
   "cell_type": "code",
   "execution_count": null,
   "metadata": {
    "colab": {
     "base_uri": "https://localhost:8080/"
    },
    "id": "P7-iMX7VErcl",
    "outputId": "fdcac76f-06fb-4d62-c3bd-2e45c223e149"
   },
   "outputs": [
    {
     "name": "stdout",
     "output_type": "stream",
     "text": [
      "In 2021, expect to see more breakfast foods, better plant-based products, and power bowls with ancient grains and spiralized veggies.\n"
     ]
    }
   ],
   "source": [
    "# RAG\n",
    "response = rag_chain_eval.invoke({\"input\": \"What are the latest food and drink developments?\"})\n",
    "print(response[\"answer\"])"
   ]
  },
  {
   "cell_type": "code",
   "execution_count": null,
   "metadata": {
    "colab": {
     "base_uri": "https://localhost:8080/"
    },
    "id": "BuGMviV_FZgs",
    "outputId": "b1700d7a-a1e7-4521-8f3b-1230d222787f"
   },
   "outputs": [
    {
     "name": "stdout",
     "output_type": "stream",
     "text": [
      "page_content='All The New Food And Drink You Can Look Forward To In 2021. Breakfast foods (because you're probably at home in the mornings now), better plant-based products and more.' metadata={'id': '3482', 'category': 'FOOD & DRINK', 'date': '2020-12-28', 'headline': 'All The New Food And Drink You Can Look Forward To In 2021'}\n",
      "\n",
      "page_content='The Biggest Food Trends Of 2015. ' metadata={'id': '113882', 'category': 'TASTE', 'date': '2014-12-01', 'headline': 'The Biggest Food Trends Of 2015'}\n",
      "\n",
      "page_content='6 Food Trends To Help You Eat Better In 2016. Get ready for power bowls, spiralized veggies, ancient grains and more.' metadata={'id': '79653', 'category': 'HEALTHY LIVING', 'date': '2015-12-27', 'headline': '6 Food Trends To Help You Eat Better In 2016'}\n",
      "\n",
      "page_content='10 Food Trends to Watch. We're going to live in a world with Coke robots, apparently.' metadata={'id': '146112', 'category': 'FOOD & DRINK', 'date': '2013-12-04', 'headline': '10 Food Trends to Watch'}\n",
      "\n",
      "page_content='10 Unexpected Food Trends, From Middle Eastern Cuisine to Cheesy Fermentation. Although the list curiously avoids any mentions of Nutella, bacon or even Sriracha, it's an interesting look into the future of culinary trends via the perspective of an experienced chef -- aka, somebody other than a \"foodie\" blogger.' metadata={'id': '160492', 'category': 'FOOD & DRINK', 'date': '2013-07-05', 'headline': '10 Unexpected Food Trends, From Middle Eastern Cuisine to Cheesy Fermentation'}\n",
      "\n",
      "page_content='The Best Things To Eat And Drink Right Now, According To 'GQ' (PHOTOS). Our mouths are watering.' metadata={'id': '158948', 'category': 'FOOD & DRINK', 'date': '2013-07-22', 'headline': \"The Best Things To Eat And Drink Right Now, According To 'GQ' (PHOTOS)\"}\n",
      "\n",
      "page_content='New Food Trends: Cool Condiments, Salt Infusions, Green Eggs, S'Mores Update. One of the biggest trends popping up around the country plays on the childhood Dr. Seuss story -- green eggs and ham.' metadata={'id': '136772', 'category': 'FOOD & DRINK', 'date': '2014-03-14', 'headline': \"New Food Trends: Cool Condiments, Salt Infusions, Green Eggs, S'Mores Update\"}\n",
      "\n",
      "page_content='The Must-Read Food Articles Of 2013. In case you missed these pieces earlier this year, now is your time to catch up!' metadata={'id': '144662', 'category': 'FOOD & DRINK', 'date': '2013-12-20', 'headline': 'The Must-Read Food Articles Of 2013'}\n",
      "\n",
      "page_content='Drinks With Dinner: Working the Hot Food Trend at Home. Wine, beer and liquor has been making a cool comeback in everything from chocolate to full-on meals at some of the hottest restaurants in the country.' metadata={'id': '165556', 'category': 'FOOD & DRINK', 'date': '2013-05-13', 'headline': 'Drinks With Dinner: Working the Hot Food Trend at Home'}\n",
      "\n",
      "page_content='The Recipes That Changed Our Lives In 2016. We're pretty sure they'll be great in 2017, too.' metadata={'id': '47437', 'category': 'TASTE', 'date': '2016-12-28', 'headline': 'The Recipes That Changed Our Lives In 2016'}\n",
      "\n",
      "page_content='The Top Food Trends for 2014. Here are some of my top picks for foods to watch this year!' metadata={'id': '140184', 'category': 'FOOD & DRINK', 'date': '2014-02-06', 'headline': 'The Top Food Trends for 2014'}\n",
      "\n",
      "page_content='Five Hot Food Trends in 2014. Which products caught my eye and taste-buds?  Though hardly exhaustive, these fads and foodstuffs stood out.' metadata={'id': '136437', 'category': 'FOOD & DRINK', 'date': '2014-03-18', 'headline': 'Five Hot Food Trends in 2014'}\n",
      "\n",
      "page_content='This Is What The Future Of Fast Food Looks Like. ' metadata={'id': '122473', 'category': 'BUSINESS', 'date': '2014-08-25', 'headline': 'This Is What The Future Of Fast Food Looks Like'}\n",
      "\n",
      "page_content='Top Food Trend Predictions For 2014. 2014 is going upscale, guys.' metadata={'id': '143888', 'category': 'FOOD & DRINK', 'date': '2013-12-28', 'headline': 'Top Food Trend Predictions For 2014'}\n",
      "\n",
      "page_content='11 Foods You Should Resolve To Try In 2017. Let's all be a little more adventurous in the new year.' metadata={'id': '47381', 'category': 'TASTE', 'date': '2016-12-29', 'headline': '11 Foods You Should Resolve To Try In 2017'}\n",
      "\n",
      "page_content='International Foods That Are Hard To Find, From Fish Sperm To Duck Embryos. Unless you know where to look...' metadata={'id': '142310', 'category': 'FOOD & DRINK', 'date': '2014-01-14', 'headline': 'International Foods That Are Hard To Find, From Fish Sperm To Duck Embryos'}\n",
      "\n",
      "page_content='Trend Spotting: 7 Top Food Trends. This year, the expo portion of the event drew more than 350 food and nutrition related exhibitors. It's here that new products and innovations are launched and food trends come to life.' metadata={'id': '116864', 'category': 'HEALTHY LIVING', 'date': '2014-10-28', 'headline': 'Trend Spotting: 7 Top Food Trends'}\n",
      "\n",
      "page_content='New and Healthy Food Finds. This year, I carefully planned which companies I wanted to visit at Natural Foods Expo West in each of the six huge exhibit halls. Here are my finds of the day, which are all made from whole foods with minimal ingredients.' metadata={'id': '170184', 'category': 'WELLNESS', 'date': '2013-03-25', 'headline': 'New and Healthy Food Finds'}\n",
      "\n",
      "page_content='Artisanal Fast Food. Artisanal foods, too, can be \"fast.\" Advances in technology are transforming the field, making luxuries such as small-batch coffee and forbidden rice with sun-dried mangoes instantaneous or nearly so.' metadata={'id': '159954', 'category': 'FOOD & DRINK', 'date': '2013-07-11', 'headline': 'Artisanal Fast Food'}\n",
      "\n",
      "page_content='Farm To Table: An Emerging Menu Trend. Many restaurants these days are reverting back to local farms to gather the freshest ingredients.' metadata={'id': '181621', 'category': 'FOOD & DRINK', 'date': '2012-11-23', 'headline': 'Farm To Table: An Emerging Menu Trend'}\n",
      "\n",
      "page_content='Move Over Pumpkin Spice, Banana Milk Coffee Is The New It Drink. Pumpkin spice lattes are nice during the first days of fall, but after you’ve eaten pumpkin spice-flavored bagels, hummus' metadata={'id': '56794', 'category': 'TASTE', 'date': '2016-09-13', 'headline': 'Move Over Pumpkin Spice, Banana Milk Coffee Is The New It Drink'}\n",
      "\n",
      "page_content='Dan Barber Argues That Farm-to-Table \"Is the Wrong Way to Think About the Future of Good Food\". Basically, it's time to change our entire eating and drinking paradigm.' metadata={'id': '130344', 'category': 'GREEN', 'date': '2014-05-28', 'headline': 'Dan Barber Argues That Farm-to-Table \"Is the Wrong Way to Think About the Future of Good Food\"'}\n",
      "\n",
      "page_content='Best of the Web in Food, 2012. Check out what got our taste buds going this past year.' metadata={'id': '178288', 'category': 'FOOD & DRINK', 'date': '2012-12-30', 'headline': 'Best of the Web in Food, 2012'}\n",
      "\n",
      "page_content='Black Elephants, Black Swans, and Tomorrow's Fish. Is it a bit much to say that we are in the midst of a Food Revolution? I suggest that depends on how you view the current conditions on your plate, in your family, in your community, in our nation.' metadata={'id': '113978', 'category': 'GREEN', 'date': '2014-11-30', 'headline': \"Black Elephants, Black Swans, and Tomorrow's Fish\"}\n",
      "\n",
      "page_content='Looking Ahead: 2013 Food Trends. While we set out on the dining adventure that's to be 2013, it's always fun to speculate where that adventure will lead. Here's what some of the major news outlets around the country are predicting.' metadata={'id': '175801', 'category': 'FOOD & DRINK', 'date': '2013-01-25', 'headline': 'Looking Ahead: 2013 Food Trends'}\n",
      "\n",
      "page_content='Some Really Good (And A Bit Of Bad) Health News For Regular Coffee Drinkers. ' metadata={'id': '114296', 'category': 'FIFTY', 'date': '2014-11-27', 'headline': 'Some Really Good (And A Bit Of Bad) Health News For Regular Coffee Drinkers'}\n",
      "\n",
      "page_content='Pepsi Next: The Last Thing America Needs. \"Health and wellness\" may be cited as motivators behind Pepsi NEXT, but America needs mid-calorie soda as much as the Gulf of Mexico needs another oil spill. May I suggest drinking more water? What a concept!' metadata={'id': '204780', 'category': 'WELLNESS', 'date': '2012-03-19', 'headline': 'Pepsi Next: The Last Thing America Needs'}\n",
      "\n",
      "page_content='New Technological Tools Are Ensuring That Balanced Meal Ideas Are Available For Everyone. It's a simple solution that has the potential -- the opportunity to help people facing food insecurity get more than just enough to eat, but to breakdown some of the barriers to preparing and consuming the healthful foods for herself and her family.' metadata={'id': '105299', 'category': 'IMPACT', 'date': '2015-03-10', 'headline': 'New Technological Tools Are Ensuring That Balanced Meal Ideas Are Available For Everyone'}\n",
      "\n",
      "page_content='Restaurant Trends For 2013. While pizza, cupcakes and burgers seem to be invincible, other food trends rise and fall.' metadata={'id': '175601', 'category': 'FOOD & DRINK', 'date': '2013-01-28', 'headline': 'Restaurant Trends For 2013'}\n",
      "\n",
      "page_content='As Global Demand for Dairy Products Soars, Domestic Innovation is Key. Every day, our increasingly independent children and adolescents are faced with coolers full of beverage and energy drink options, and they must have innovative and attractive milk alternatives that make it easier to make the nutritionally smart choice.' metadata={'id': '129759', 'category': 'BUSINESS', 'date': '2014-06-04', 'headline': 'As Global Demand for Dairy Products Soars, Domestic Innovation is Key'}\n",
      "\n",
      "page_content='Better Food Labels: Have We Hit the Nail on the Head?. Improving food labels, as planned by the USFDA and much in the news over the past week or so, is a welcome thing. But I do think we have cause to wonder if all the fanfare and media hype are really warranted. When all is said and done, what improvements are in the works, and how much will they really matter?' metadata={'id': '137465', 'category': 'WELLNESS', 'date': '2014-03-07', 'headline': 'Better Food Labels: Have We Hit the Nail on the Head?'}\n",
      "\n",
      "page_content='Top 25 Food Trends of 2013. The most amazing things Andrew Knowlton saw, heard, and yes, devoured during his 120-day, 26,333-mile, 22-state tour of the country's best new restaurants.' metadata={'id': '155435', 'category': 'FOOD & DRINK', 'date': '2013-08-28', 'headline': 'Top 25 Food Trends of 2013'}\n",
      "\n",
      "page_content='Trend Spotting: 5 Top Food Trends. At the Academy of Nutrition and Dietetics Food and Nutrition Conference and Expo, new products and innovations are launched and food trends come to life. Here are the top five food trends spotted there.' metadata={'id': '149461', 'category': 'WELLNESS', 'date': '2013-10-30', 'headline': 'Trend Spotting: 5 Top Food Trends'}\n",
      "\n",
      "page_content='The Genius Products That'll Help You Pack An Eco-Friendly Lunch. From bento boxes to stainless steel straws.' metadata={'id': '56547', 'category': 'TASTE', 'date': '2016-09-15', 'headline': \"The Genius Products That'll Help You Pack An Eco-Friendly Lunch\"}\n",
      "\n",
      "page_content='9 Mind-Boggling Food Facts We Learned From Reddit. Intriguing, disturbing and awesome things about the foods and drinks we consume every day.' metadata={'id': '143878', 'category': 'FOOD & DRINK', 'date': '2013-12-28', 'headline': '9 Mind-Boggling Food Facts We Learned From Reddit'}\n",
      "\n",
      "page_content='Crazy Diets, Silly Food Science and Absurd Food Inventions 2013. This year had its remarkable share of senseless diets, bizarre research and odd inventions. Here's what you might've missed.' metadata={'id': '145397', 'category': 'WELLNESS', 'date': '2013-12-12', 'headline': 'Crazy Diets, Silly Food Science and Absurd Food Inventions 2013'}\n",
      "\n",
      "page_content='Trendspotting: 5 Top Food Trends. The expo portion of the Academy of Nutrition and Dietetics Food and Nutrition Conference and Expo draws more than 350 exhibitors. Here, new products are launched and food trends come to life. Here are the top five food trends spotted at this year's expo.' metadata={'id': '184412', 'category': 'WELLNESS', 'date': '2012-10-24', 'headline': 'Trendspotting: 5 Top Food Trends'}\n",
      "\n",
      "page_content='5 Diet-Wrecking Fast Food Creations. Some of the nation's largest fast-food chains have recently unleashed spectacularly diet un-friendly menu items. Here are' metadata={'id': '187797', 'category': 'WELLNESS', 'date': '2012-09-19', 'headline': '5 Diet-Wrecking Fast Food Creations'}\n",
      "\n",
      "page_content='Chefs Predict How Restaurants Will Change In 2021. COVID-19 has changed the industry for the foreseeable future, and maybe even forever.' metadata={'id': '3475', 'category': 'FOOD & DRINK', 'date': '2020-12-30', 'headline': 'Chefs Predict How Restaurants Will Change In 2021'}\n",
      "\n",
      "page_content='The 8 Best Produce Picks For Late Summer. Now's the time to load up on tomatoes, figs, blackberries and more fresh fruit.' metadata={'id': '90915', 'category': 'HEALTHY LIVING', 'date': '2015-08-22', 'headline': 'The 8 Best Produce Picks For Late Summer'}\n",
      "\n",
      "page_content='Processing Food, Processing... You?!. Anyone living and eating in the modern world, and paying even a little attention, knows that we are a very long way from eating food, not too much, mostly plants. Not only does our food come mostly in bags, boxes, bottles, jars and cans -- but mostly, it isn't really food.' metadata={'id': '170094', 'category': 'WELLNESS', 'date': '2013-03-26', 'headline': 'Processing Food, Processing... You?!'}\n",
      "\n",
      "page_content='Superfoods Of The World. Trying different foods from around the world is a great way to find new and exciting flavors that you can incorporate into' metadata={'id': '153098', 'category': 'WELLNESS', 'date': '2013-09-22', 'headline': 'Superfoods Of The World'}\n",
      "\n",
      "page_content='The Airports With The Healthiest Food. “Healthful vegetarian meals at airports across the country are just the ticket for traveling light this holiday season,” PCRM' metadata={'id': '181225', 'category': 'WELLNESS', 'date': '2012-11-28', 'headline': 'The Airports With The Healthiest Food'}\n",
      "\n",
      "page_content='Look to Norway!. The food industry's effort to develop healthier products eventually affects what's in our refrigerators -- not only for those who find it easy to live healthy, but also for those who struggle in doing so. I am sure we will see results in the years ahead.' metadata={'id': '64999', 'category': 'IMPACT', 'date': '2016-06-12', 'headline': 'Look to Norway!'}\n",
      "\n",
      "page_content='Eat Local App: Fresh Foods at Your Fingertips. Asparagus, radishes, and spinach are trending this week in my neck of the woods. These foods are in season and likely at' metadata={'id': '198609', 'category': 'WELLNESS', 'date': '2012-05-24', 'headline': 'Eat Local App: Fresh Foods at Your Fingertips'}\n",
      "\n",
      "page_content='On the Future of Food. You could say it all started with Sir Albert Howard 80 or so years ago. He wrote a book outlining the importance of healthy' metadata={'id': '207847', 'category': 'WELLNESS', 'date': '2012-02-15', 'headline': 'On the Future of Food'}\n",
      "\n",
      "page_content='The Last Diet You Will Ever Need. Each of us has the capacity to make the small changes in our lives that will create big changes in our food landscape, our agriculture and even our government policies.' metadata={'id': '197706', 'category': 'WELLNESS', 'date': '2012-06-03', 'headline': 'The Last Diet You Will Ever Need'}\n",
      "\n",
      "page_content='The Yogurt War. How does the food industry resemble life itself?' metadata={'id': '163520', 'category': 'FOOD & DRINK', 'date': '2013-06-04', 'headline': 'The Yogurt War'}\n",
      "\n",
      "page_content='This Is What Restaurants Have To Deal With When It Comes To Dietary Restrictions. That's quite a list.' metadata={'id': '143327', 'category': 'FOOD & DRINK', 'date': '2014-01-03', 'headline': 'This Is What Restaurants Have To Deal With When It Comes To Dietary Restrictions'}\n",
      "\n",
      "page_content='The Healthy Food Transition. Include students in decision-making. Encourage them to question food production and supply systems, and to envision solutions. Challenge them -- and just as importantly, invite them to challenge you -- to think in new and forward-looking ways.' metadata={'id': '112514', 'category': 'EDUCATION', 'date': '2014-12-17', 'headline': 'The Healthy Food Transition'}\n",
      "\n"
     ]
    }
   ],
   "source": [
    "# Return the sources that were used to generate the answer\n",
    "for document in response[\"context\"]:\n",
    "    print(document)\n",
    "    print()"
   ]
  },
  {
   "cell_type": "code",
   "execution_count": null,
   "metadata": {
    "colab": {
     "base_uri": "https://localhost:8080/"
    },
    "id": "qkfqNjGnENua",
    "outputId": "8eb7341a-4d82-4583-c025-8274b385f7b0"
   },
   "outputs": [
    {
     "name": "stdout",
     "output_type": "stream",
     "text": [
      "6340\n",
      "Evaluation Metrics for Retrieval:\n",
      "precision_at_k: 0.39\n",
      "recall_at_k: 0.39\n",
      "mrr: 0.33\n"
     ]
    }
   ],
   "source": [
    "# Evaluation\n",
    "query = \"What are the latest food developments?\"\n",
    "#ground_truth_category = [\"FOOD & DRINK\"]\n",
    "ground_truth_category = \"FOOD & DRINK\"\n",
    "metrics = evaluate_retrieval(retriever_eval, query, ground_truth_category, k=6340)\n",
    "\n",
    "print(\"Evaluation Metrics for Retrieval:\")\n",
    "for metric, value in metrics.items():\n",
    "    print(f\"{metric}: {value:.2f}\")"
   ]
  },
  {
   "cell_type": "markdown",
   "metadata": {
    "id": "Biij31EDQ7Ab"
   },
   "source": [
    "### Evaluation of Retrieval Performance\n",
    "We conducted an evaluation of the document retrieval system using the query \"What are the latest food developments?\" within the FOOD & DRINK category, which contains 6340 documents in the VectorStore. The following retrieval metrics were obtained:\n",
    "\n",
    "- **Precision@k:** 0.39\n",
    "- **Recall@k:** 0.39\n",
    "- **MRR (Mean Reciprocal Rank):** 0.33\n",
    "\n",
    "#### Interpretation of Results\n",
    "\n",
    "**Precision@k (0.39**):\n",
    "\n",
    "This metric indicates that 39% of the top 6340 retrieved documents are relevant to the query. In other words, about 4 out of every 10 documents in the top retrieved results are truly related to food developments. A precision of 0.39 suggests that the retrieval system is returning a fairly mixed set of documents, where a significant portion may not be directly relevant to the user's query, requiring refinement of the ranking mechanism.\n",
    "\n",
    "**Recall@k (0.39):**\n",
    "This metric reflects the proportion of relevant documents that were retrieved, out of all available relevant documents in the FOOD & DRINK category. A recall of 0.39 means that the system is retrieving roughly 39% of all relevant documents for the query, which indicates that the retrieval system may be missing a substantial portion of relevant information. Improving recall could involve enhancing the search index or the way relevance is determined within the vector store.\n",
    "\n",
    "**MRR (0.33):**\n",
    "The Mean Reciprocal Rank (MRR) is a measure of the rank position at which the first relevant document appears in the retrieval results. With an MRR of 0.33, the system returns the first relevant document relatively early in the results, but it still suggests that a considerable number of relevant documents might be located further down in the list. Improving the relevance ranking and fine-tuning the retrieval algorithms could help bring more relevant documents closer to the top of the results.\n",
    "\n",
    "#### Discussion of Strengths and Limitations\n",
    "\n",
    "**Strengths**\n",
    "- Solid Initial Performance: A precision of 0.39 and recall of 0.39 indicate that the retrieval system is performing decently in identifying relevant documents within the FOOD & DRINK category. The MRR value suggests that, while improvements could be made, the system is retrieving relevant documents early on in most queries.\n",
    "- Scalability: The system is capable of handling large categories (with thousands of documents) and retrieves documents effectively, despite the large volume of data in the vector store.\n",
    "\n",
    "**Limitations**\n",
    "- Room for Improvement in Precision and Recall: With both precision and recall at 0.39, there is significant room for improvement. The system could be returning a large number of irrelevant documents, which indicates that the ranking of documents could be further optimized. This might involve refining the embeddings, using advanced retrieval models, or adjusting the parameters to focus more on relevance.\n",
    "- Potential Label Confusion: A key limitation in the retrieval system is the possibility of label confusion, where documents from categories with overlapping themes may be retrieved along with the intended food-related content. The FOOD & DRINK category could be confused with several other categories due to the shared topics or similar content. For example:\n",
    "\n",
    "- HEALTHY LIVING (6694 documents) may include health-focused articles on food or diets.\n",
    "- WELLNESS (17945 documents) could feature food-related content, but from a health and lifestyle perspective.\n",
    "- STYLE & BEAUTY (9814 documents) might contain content related to beauty, where food is discussed in relation to diet.\n",
    "- ENTERTAINMENT (17362 documents) might overlap with food-related entertainment such as food shows or celebrity chef content.\n",
    "- TRAVEL (9900 documents) could feature culinary tourism or local food culture.\n",
    "- TASTE (2096 documents) often addresses food trends and taste preferences, which may overlap with food development.\n",
    "- GREEN (2622 documents) includes content on sustainable food practices, which may be relevant but also overlap with topics like food sustainability and agricultural innovations.\n",
    "- SCIENCE (2206 documents) could involve articles on food science, nutritional research, or agricultural advancements.\n",
    "\n",
    "These overlapping categories could lead the retrieval system to misclassify documents or rank them inappropriately, thus diluting the relevance of the retrieved results. For instance, the system might retrieve documents from WELLNESS that discuss the health benefits of food, but not actual food development innovations.\n",
    "\n",
    "#### Conclusion\n",
    "In summary, the retrieval system demonstrates decent performance, but it faces significant challenges in improving precision, recall, and the handling of overlapping categories. Label confusion, especially with categories related to wellness, travel, and lifestyle, may contribute to the retrieval of irrelevant documents, affecting the system’s ability to provide highly relevant results. Future improvements could include fine-tuning the search algorithm, refining embeddings, and adding more sophisticated techniques for distinguishing between related but distinct topics to enhance the accuracy and relevance of the retrieved documents."
   ]
  },
  {
   "cell_type": "markdown",
   "metadata": {
    "id": "rPWFQG9mZ5oY"
   },
   "source": [
    "### 5.2. Proposed Evaluation for Extended Systems\n",
    "\n",
    "Due to time constraints, I wasn't able to fully implement evaluations for the QA with Generative AI, Topic Extraction, and Tagging systems. However, the following outlines how these systems could be effectively evaluated in the future. These methods would provide a strong framework to measure their performance and refine their functionality if further development is pursued."
   ]
  },
  {
   "cell_type": "markdown",
   "metadata": {
    "id": "Vw_vmv0faCJt"
   },
   "source": [
    "#### 5.2.1. QA with Generative AI\n",
    "**Objective:** Assess the system's ability to generate accurate and relevant answers to user queries, using information extracted from the corpus.\n",
    "\n",
    "**Evaluation Approach:**\n",
    "\n",
    "- **Quantitative Metrics:**\n",
    "  - Exact Match (EM): Measures the percentage of generated answers that exactly match the expected answers.\n",
    "  - F1-Score: Evaluates the overlap of words between the generated and expected answers, balancing precision and recall.\n",
    "  - BLEU/ROUGE: These metrics compare n-gram similarity between the generated answers and the expected ones. BLEU is often more suited for shorter answers, while ROUGE works well for longer, summary-style responses.\n",
    "  - BERTScore: Leverages semantic embeddings to evaluate conceptual similarity between the answers.\n",
    "\n",
    "- **Manual Review:**  \n",
    "Using a Likert scale (e.g., 1-5), human evaluators can provide qualitative insights that complement the automated metrics, based on:\n",
    "  - Relevance: Does the answer directly address the question?\n",
    "  - Accuracy: Is the information correct?\n",
    "  - Fluency: Is the response well-written and natural?\n",
    "\n",
    "- **Reference Dataset:**  \n",
    "Create a test set of representative questions paired with expected answers (ground truth). If such a dataset isn't available, it can be manually curated from the corpus."
   ]
  },
  {
   "cell_type": "markdown",
   "metadata": {
    "id": "tZOIZF_La1x5"
   },
   "source": [
    "#### 5.2.2. Topic Extraction\n",
    "**Objective:** Assess how well the system identifies the main themes within a set of documents.\n",
    "\n",
    "**Evaluation Approach:**\n",
    "\n",
    "- **Cohesion and Coherence Metrics:**\n",
    "  - Coherence Score (e.g., UMASS, PMI): Measures how semantically consistent the words grouped under each topic are.\n",
    "\n",
    "- **Subject matter experts can review the generated topics and assess:**\n",
    "  - Do the topics make sense?\n",
    "  - Are they useful for organizing or summarizing the content?\n",
    "\n",
    "**Visualization:**  \n",
    "Techniques like t-SNE or UMAP can project documents into a lower-dimensional space, helping visualize how well they cluster based on assigned topics."
   ]
  },
  {
   "cell_type": "markdown",
   "metadata": {
    "id": "t3JoCrCxbWvM"
   },
   "source": [
    "### 5.2.3. Tagging\n",
    "**Objective:** Evaluate the system's ability to assign relevant tags to documents based on their content.\n",
    "\n",
    "**Evaluation Approach:**\n",
    "\n",
    "- **Multilabel Classification Metrics:**\n",
    "- Accuracy: Measures the proportion of correctly assigned tags.\n",
    "- Precision, Recall, F1-Score: These can be calculated at both the micro level (treating all tags equally) and macro level (averaging metrics across tags).\n",
    "- Subset Accuracy: Checks whether the predicted set of tags matches the expected set exactly.\n",
    "- Hamming Loss: Evaluates the proportion of incorrect or missing tags.\n",
    "- Jaccard Similarity: Measures the overlap between the predicted and actual tag sets.\n",
    "\n",
    "- **Reference Dataset:**  \n",
    "Use a collection of documents with pre-assigned, validated tags as ground truth. If such a dataset doesn't exist, one can be manually curated by tagging a representative sample of the corpus.\n",
    "\n",
    "**Error Analysis:**  \n",
    "Build a confusion matrix to identify which tags are most commonly misclassified or missed, and use this to refine the model.\n",
    "\n",
    "**User Feedback:**  \n",
    "Gather input from end-users about the relevance and usefulness of the assigned tags, particularly if tagging impacts document organization or search."
   ]
  },
  {
   "cell_type": "markdown",
   "metadata": {},
   "source": [
    "# 6. Recommendations"
   ]
  },
  {
   "cell_type": "markdown",
   "metadata": {},
   "source": [
    "1. **Enhancing Data Quality and Diversity**\n",
    "  - Expand the Dataset: Explore additional datasets or combine multiple datasets to increase the diversity of text samples. This can lead to a more robust model capable of handling a wider variety of input scenarios.\n",
    "  - Address Class Imbalance: If applicable, consider techniques such as oversampling, undersampling, or synthetic data generation (e.g., SMOTE) to mitigate class imbalances observed in the dataset.\n",
    "2. **Advanced Preprocessing Techniques**\n",
    "  - Domain-Specific Text Cleaning: Develop a text preprocessing steps to better handle domain-specific nuances such as acronyms, slang, or context-specific phrases.\n",
    "3. **Model Optimization and Experimentation**\n",
    "  - Explore Alternative Models: Experiment with advanced language models like RoBERTa, or GPT to potentially improve task-specific performance.\n",
    "  - Transfer Learning: Leverage pre-trained models or fine-tune existing Hugging Face large language models (LLMs) to capitalize on their linguistic understanding.\n",
    "4. **Evaluation and Metric Enhancement**\n",
    "  - Use Additional Metrics: Complement existing evaluation metrics with domain-specific or task-relevant measures such as BLEU, ROUGE, or METEOR for text generation tasks or Mean Reciprocal Rank (MRR) for retrieval tasks.\n",
    "  - Error Analysis: Perform a detailed error analysis to identify common failure cases or patterns where the model struggles and refine the pipeline accordingly.\n",
    "5. **Expanding Use Cases**  \n",
    "Consider extending the model's capabilities to support additional tasks such as recommendations.\n",
    "6. **Ethical Considerations**\n",
    "  - Bias Detection and Mitigation: Evaluate the model for potential biases in its outputs and take steps to address them to ensure fair and ethical usage.\n",
    "\n",
    "These recommendations aim to extend the current implementation, enhance its performance, and ensure its adaptability for practical and impactful real-world applications."
   ]
  }
 ],
 "metadata": {
  "accelerator": "GPU",
  "colab": {
   "gpuType": "T4",
   "provenance": [],
   "toc_visible": true
  },
  "kernelspec": {
   "display_name": "DJTA",
   "language": "python",
   "name": "python3"
  },
  "language_info": {
   "codemirror_mode": {
    "name": "ipython",
    "version": 3
   },
   "file_extension": ".py",
   "mimetype": "text/x-python",
   "name": "python",
   "nbconvert_exporter": "python",
   "pygments_lexer": "ipython3",
   "version": "3.12.7"
  }
 },
 "nbformat": 4,
 "nbformat_minor": 0
}
